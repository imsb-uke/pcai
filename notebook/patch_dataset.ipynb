{
 "cells": [
  {
   "cell_type": "code",
   "execution_count": 51,
   "metadata": {},
   "outputs": [
    {
     "name": "stdout",
     "output_type": "stream",
     "text": [
      "The autoreload extension is already loaded. To reload it, use:\n",
      "  %reload_ext autoreload\n"
     ]
    }
   ],
   "source": [
    "%load_ext autoreload\n",
    "%autoreload 2"
   ]
  },
  {
   "cell_type": "code",
   "execution_count": 52,
   "metadata": {},
   "outputs": [],
   "source": [
    "import sys\n",
    "sys.path.append('../')"
   ]
  },
  {
   "cell_type": "code",
   "execution_count": 53,
   "metadata": {},
   "outputs": [],
   "source": [
    "# from src.patch_dataset import PatchDataset\n",
    "from glob import glob\n",
    "import pandas as pd\n",
    "import matplotlib.pyplot as plt\n",
    "from src.patch_dataset import PatchDataset\n",
    "import os"
   ]
  },
  {
   "cell_type": "code",
   "execution_count": 54,
   "metadata": {},
   "outputs": [
    {
     "data": {
      "text/html": [
       "<div>\n",
       "<style scoped>\n",
       "    .dataframe tbody tr th:only-of-type {\n",
       "        vertical-align: middle;\n",
       "    }\n",
       "\n",
       "    .dataframe tbody tr th {\n",
       "        vertical-align: top;\n",
       "    }\n",
       "\n",
       "    .dataframe thead th {\n",
       "        text-align: right;\n",
       "    }\n",
       "</style>\n",
       "<table border=\"1\" class=\"dataframe\">\n",
       "  <thead>\n",
       "    <tr style=\"text-align: right;\">\n",
       "      <th></th>\n",
       "      <th>patient_id</th>\n",
       "      <th>event_duration</th>\n",
       "      <th>event_indicator</th>\n",
       "      <th>sample_id</th>\n",
       "      <th>filepath</th>\n",
       "    </tr>\n",
       "  </thead>\n",
       "  <tbody>\n",
       "    <tr>\n",
       "      <th>0</th>\n",
       "      <td>0</td>\n",
       "      <td>100</td>\n",
       "      <td>0</td>\n",
       "      <td>0</td>\n",
       "      <td>0.tif</td>\n",
       "    </tr>\n",
       "    <tr>\n",
       "      <th>1</th>\n",
       "      <td>1</td>\n",
       "      <td>50</td>\n",
       "      <td>1</td>\n",
       "      <td>1</td>\n",
       "      <td>1.tif</td>\n",
       "    </tr>\n",
       "    <tr>\n",
       "      <th>2</th>\n",
       "      <td>2</td>\n",
       "      <td>20</td>\n",
       "      <td>1</td>\n",
       "      <td>2</td>\n",
       "      <td>2.tif</td>\n",
       "    </tr>\n",
       "  </tbody>\n",
       "</table>\n",
       "</div>"
      ],
      "text/plain": [
       "   patient_id  event_duration  event_indicator  sample_id filepath\n",
       "0           0             100                0          0    0.tif\n",
       "1           1              50                1          1    1.tif\n",
       "2           2              20                1          2    2.tif"
      ]
     },
     "execution_count": 54,
     "metadata": {},
     "output_type": "execute_result"
    }
   ],
   "source": [
    "dataset_dir = '../data/tma_dataset/'\n",
    "image_base_dir = os.path.join(dataset_dir, \"images\")\n",
    "mask_base_dir = os.path.join(dataset_dir, \"masks/masks/\")\n",
    "\n",
    "metadata_df = (\n",
    "    pd.read_csv(os.path.join(dataset_dir, \"metadata/metadata.csv\"))\n",
    "\n",
    "    # sample id describes the bag level information\n",
    "    .assign(sample_id=lambda df_: df_['patient_id'])\n",
    "\n",
    "    .assign(filepath=lambda df_: df_['sample_id'].apply(lambda x: f\"{x}.tif\"))\n",
    ")\n",
    "metadata_df"
   ]
  },
  {
   "cell_type": "code",
   "execution_count": 55,
   "metadata": {},
   "outputs": [],
   "source": [
    "# from metadata_df \n",
    "\n",
    "dataset = PatchDataset(\n",
    "    image_base_dir=image_base_dir,\n",
    "    mask_base_dir=mask_base_dir,\n",
    "    info_df=metadata_df,    \n",
    "    label_cols=['event_duration', 'event_indicator'],\n",
    "    patch_size=14,\n",
    "    n_patches=5, # return 5 patches per bag\n",
    ")"
   ]
  },
  {
   "cell_type": "code",
   "execution_count": 56,
   "metadata": {},
   "outputs": [
    {
     "name": "stdout",
     "output_type": "stream",
     "text": [
      "Preparing patches for 0.tif\n"
     ]
    },
    {
     "data": {
      "text/plain": [
       "patient_id                                                         0\n",
       "event_duration                                                   100\n",
       "event_indicator                                                    0\n",
       "sample_id                                                          0\n",
       "filepath                                                       0.tif\n",
       "patch_info         [[0, 3], [1, 1], [1, 2], [1, 3], [1, 4], [1, 5...\n",
       "max_rows                                                           7\n",
       "max_cols                                                           7\n",
       "patch_size                                                        14\n",
       "img_mag_dsf                                                        1\n",
       "initial_dsf                                                        1\n",
       "dtype: object"
      ]
     },
     "metadata": {},
     "output_type": "display_data"
    },
    {
     "name": "stdout",
     "output_type": "stream",
     "text": [
      "label [100   0]\n"
     ]
    },
    {
     "data": {
      "image/png": "[encoded data removed]",
      "text/plain": [
       "<Figure size 640x480 with 1 Axes>"
      ]
     },
     "metadata": {},
     "output_type": "display_data"
    }
   ],
   "source": [
    "import numpy as np\n",
    "\n",
    "# dataset can now be iterated to get the patches, labels and metadata\n",
    "for patch_bag, label, metadata in dataset:\n",
    "\n",
    "    # metadata from the csv is present\n",
    "    display(pd.Series(metadata))\n",
    "\n",
    "    # image can be plotted if color axis is swapped to be last\n",
    "    plt.imshow(np.swapaxes(patch_bag[0], 0, 2))\n",
    "\n",
    "    # label can also be read or used for training as duration/indicator\n",
    "    print(\"label\", label)\n",
    "    break"
   ]
  }
 ],
 "metadata": {
  "kernelspec": {
   "display_name": "env-pcai",
   "language": "python",
   "name": "python3"
  },
  "language_info": {
   "codemirror_mode": {
    "name": "ipython",
    "version": 3
   },
   "file_extension": ".py",
   "mimetype": "text/x-python",
   "name": "python",
   "nbconvert_exporter": "python",
   "pygments_lexer": "ipython3",
   "version": "3.10.14"
  }
 },
 "nbformat": 4,
 "nbformat_minor": 2
}
