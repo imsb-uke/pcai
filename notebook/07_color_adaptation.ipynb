{
 "cells": [
  {
   "cell_type": "code",
   "execution_count": 1,
   "metadata": {},
   "outputs": [],
   "source": [
    "%load_ext autoreload\n",
    "%autoreload 2"
   ]
  },
  {
   "cell_type": "code",
   "execution_count": 2,
   "metadata": {},
   "outputs": [],
   "source": [
    "import sys\n",
    "sys.path.append('../')"
   ]
  },
  {
   "cell_type": "code",
   "execution_count": 3,
   "metadata": {},
   "outputs": [],
   "source": [
    "import os\n",
    "from src.pcai_datamodule_ca import PatchColorAdaptDataModule\n",
    "from src.pcai_litmodule import LitModuleClasAdversarial"
   ]
  },
  {
   "cell_type": "code",
   "execution_count": 4,
   "metadata": {},
   "outputs": [],
   "source": [
    "dataset_dir = '../data/tma_dataset/'\n",
    "image_base_dir = os.path.join(dataset_dir, \"images\")\n",
    "mask_base_dir = os.path.join(dataset_dir, \"masks/masks/\")\n",
    "metadata_path = os.path.join(dataset_dir, 'metadata/metadata.csv')"
   ]
  },
  {
   "cell_type": "markdown",
   "metadata": {},
   "source": [
    "## 1) Create histograms"
   ]
  },
  {
   "cell_type": "code",
   "execution_count": 5,
   "metadata": {},
   "outputs": [
    {
     "data": {
      "application/vnd.jupyter.widget-view+json": {
       "model_id": "59398875350a4b2589ac48304d75bc76",
       "version_major": 2,
       "version_minor": 0
      },
      "text/plain": [
       "Output()"
      ]
     },
     "metadata": {},
     "output_type": "display_data"
    },
    {
     "name": "stdout",
     "output_type": "stream",
     "text": [
      "Training with variable bag-size requires batch-size of 1!\n"
     ]
    },
    {
     "name": "stderr",
     "output_type": "stream",
     "text": [
      "/home/fabian/UKE_projects/PCAI/pcai/notebook/../src/pcai_datamodule_ca.py:190: TqdmExperimentalWarning: rich is experimental/alpha\n",
      "  for patch_bag, _, _, meta_dict in (pbar := rich_tqdm(histograms_dataloader)):\n"
     ]
    },
    {
     "data": {
      "text/html": [
       "<pre style=\"white-space:pre;overflow-x:auto;line-height:normal;font-family:Menlo,'DejaVu Sans Mono',consolas,'Courier New',monospace\"></pre>\n"
      ],
      "text/plain": []
     },
     "metadata": {},
     "output_type": "display_data"
    },
    {
     "data": {
      "text/html": [
       "<pre style=\"white-space:pre;overflow-x:auto;line-height:normal;font-family:Menlo,'DejaVu Sans Mono',consolas,'Courier New',monospace\">\n",
       "</pre>\n"
      ],
      "text/plain": [
       "\n"
      ]
     },
     "metadata": {},
     "output_type": "display_data"
    }
   ],
   "source": [
    "hist_datamodule = PatchColorAdaptDataModule(\n",
    "    metadata_path=metadata_path,\n",
    "    image_base_dir=image_base_dir,\n",
    "    mask_base_dir=mask_base_dir,  \n",
    "    label_cols_clas=['event_duration', 'event_indicator'],\n",
    "    label_col_domain=['domain'],\n",
    "    patch_size=14,\n",
    ")\n",
    "\n",
    "histograms = hist_datamodule.create_slide_histograms()"
   ]
  },
  {
   "cell_type": "code",
   "execution_count": 6,
   "metadata": {},
   "outputs": [],
   "source": [
    "import pickle\n",
    "\n",
    "with open(\"histograms.pkl\", \"wb\") as f:\n",
    "    pickle.dump(histograms, f)"
   ]
  },
  {
   "cell_type": "markdown",
   "metadata": {},
   "source": [
    "## 2) Setup prediction"
   ]
  },
  {
   "cell_type": "code",
   "execution_count": 7,
   "metadata": {},
   "outputs": [],
   "source": [
    "datamodule = PatchColorAdaptDataModule(\n",
    "    metadata_path=metadata_path,\n",
    "    image_base_dir=image_base_dir,\n",
    "    mask_base_dir=mask_base_dir,\n",
    "    label_cols_clas=['event_duration', 'event_indicator'],\n",
    "    label_col_domain=['domain'],\n",
    "    patch_size=14,\n",
    "    n_patches=5,\n",
    "    batch_size=2,\n",
    "    histograms_path=\"histograms.pkl\",\n",
    "    cp_preds_path=\"predictions_cp.pkl\",\n",
    ")"
   ]
  },
  {
   "cell_type": "code",
   "execution_count": 8,
   "metadata": {},
   "outputs": [],
   "source": [
    "litmodule = LitModuleClasAdversarial()"
   ]
  },
  {
   "cell_type": "code",
   "execution_count": 9,
   "metadata": {},
   "outputs": [
    {
     "name": "stderr",
     "output_type": "stream",
     "text": [
      "GPU available: True (cuda), used: False\n",
      "TPU available: False, using: 0 TPU cores\n",
      "IPU available: False, using: 0 IPUs\n",
      "HPU available: False, using: 0 HPUs\n",
      "/home/fabian/anaconda3/envs/pcai-env/lib/python3.10/site-packages/pytorch_lightning/trainer/setup.py:175: PossibleUserWarning: GPU available but not used. Set `accelerator` and `devices` using `Trainer(accelerator='gpu', devices=1)`.\n",
      "  rank_zero_warn(\n"
     ]
    }
   ],
   "source": [
    "from pytorch_lightning import Trainer\n",
    "\n",
    "trainer = Trainer(accelerator=\"cpu\")"
   ]
  },
  {
   "cell_type": "code",
   "execution_count": 10,
   "metadata": {},
   "outputs": [
    {
     "name": "stdout",
     "output_type": "stream",
     "text": [
      "Computing 8 kmeans clusters...\n",
      "Computing nearest cluster for all 9 samples...\n"
     ]
    },
    {
     "name": "stderr",
     "output_type": "stream",
     "text": [
      "/home/fabian/anaconda3/envs/pcai-env/lib/python3.10/site-packages/pytorch_lightning/trainer/connectors/data_connector.py:224: PossibleUserWarning: The dataloader, predict_dataloader 0, does not have many workers which may be a bottleneck. Consider increasing the value of the `num_workers` argument` (try 4 which is the number of cpus on this machine) in the `DataLoader` init to improve performance.\n",
      "  rank_zero_warn(\n"
     ]
    },
    {
     "data": {
      "application/vnd.jupyter.widget-view+json": {
       "model_id": "08a0c303416c489fad4b309032791f94",
       "version_major": 2,
       "version_minor": 0
      },
      "text/plain": [
       "Predicting: 0it [00:00, ?it/s]"
      ]
     },
     "metadata": {},
     "output_type": "display_data"
    },
    {
     "name": "stdout",
     "output_type": "stream",
     "text": [
      "Matching histogram of sample 0_test with cluster 0\n",
      "Matching histogram of sample 1_test with cluster 1\n",
      "Matching histogram of sample 2_test with cluster 2\n"
     ]
    }
   ],
   "source": [
    "predictions = trainer.predict(model=litmodule, datamodule=datamodule)"
   ]
  },
  {
   "cell_type": "code",
   "execution_count": 11,
   "metadata": {},
   "outputs": [
    {
     "data": {
      "text/plain": [
       "{'scalar':    x|clas|pred_cls  x|clas|prob_cls_0  x|clas|prob_cls_1  x|adv|pred_cls  \\\n",
       " 0                0           0.510503           0.489497               1   \n",
       " 1                0           0.510503           0.489497               1   \n",
       " 2                0           0.510503           0.489497               1   \n",
       " 3                0           0.510503           0.489497               1   \n",
       " 4                0           0.510503           0.489497               1   \n",
       " 5                0           0.510503           0.489497               1   \n",
       " 6                0           0.510503           0.489497               1   \n",
       " 7                0           0.510503           0.489497               1   \n",
       " 8                0           0.510503           0.489497               1   \n",
       " \n",
       "    x|adv|prob_cls_0  x|adv|prob_cls_1  x|adv|prob_cls_2  y|clas  y|adv  \\\n",
       " 0          0.338543          0.347232          0.314225       0      0   \n",
       " 1          0.338543          0.347232          0.314225       1      1   \n",
       " 2          0.338543          0.347232          0.314225       1      2   \n",
       " 3          0.338543          0.347232          0.314225       0      0   \n",
       " 4          0.338543          0.347232          0.314225       1      1   \n",
       " 5          0.338543          0.347232          0.314225       1      2   \n",
       " 6          0.338543          0.347232          0.314225       0      0   \n",
       " 7          0.338543          0.347232          0.314225       1      1   \n",
       " 8          0.338543          0.347232          0.314225       1      2   \n",
       " \n",
       "    data_meta|patient_id  ...  data_meta|domain  data_meta|sample_id  \\\n",
       " 0                     0  ...                 A              0_train   \n",
       " 1                     1  ...                 B              1_train   \n",
       " 2                     2  ...                 C              2_train   \n",
       " 3                     0  ...                 A                0_val   \n",
       " 4                     1  ...                 B                1_val   \n",
       " 5                     2  ...                 C                2_val   \n",
       " 6                     0  ...                 A               0_test   \n",
       " 7                     1  ...                 B               1_test   \n",
       " 8                     2  ...                 C               2_test   \n",
       " \n",
       "   data_meta|filepath data_meta|split data_meta|assignment data_meta|max_rows  \\\n",
       " 0              0.tif           train                  NaN                  7   \n",
       " 1              1.tif           train                  NaN                  7   \n",
       " 2              2.tif           train                  NaN                  7   \n",
       " 3              0.tif             val                  NaN                  7   \n",
       " 4              1.tif             val                  NaN                  7   \n",
       " 5              2.tif             val                  NaN                  7   \n",
       " 6              0.tif            test                  0.0                  7   \n",
       " 7              1.tif            test                  0.0                  7   \n",
       " 8              2.tif            test                  0.0                  7   \n",
       " \n",
       "    data_meta|max_cols  data_meta|patch_size  data_meta|img_mag_dsf  \\\n",
       " 0                   7                    14                      1   \n",
       " 1                   7                    14                      1   \n",
       " 2                   7                    14                      1   \n",
       " 3                   7                    14                      1   \n",
       " 4                   7                    14                      1   \n",
       " 5                   7                    14                      1   \n",
       " 6                   7                    14                      1   \n",
       " 7                   7                    14                      1   \n",
       " 8                   7                    14                      1   \n",
       " \n",
       "    data_meta|initial_dsf  \n",
       " 0                      1  \n",
       " 1                      1  \n",
       " 2                      1  \n",
       " 3                      1  \n",
       " 4                      1  \n",
       " 5                      1  \n",
       " 6                      1  \n",
       " 7                      1  \n",
       " 8                      1  \n",
       " \n",
       " [9 rows x 22 columns],\n",
       " 'nonscalar': {'data_meta|patch_info': [array([[0, 3],\n",
       "          [1, 1],\n",
       "          [1, 2],\n",
       "          [1, 3],\n",
       "          [1, 4],\n",
       "          [1, 5],\n",
       "          [2, 0],\n",
       "          [2, 1],\n",
       "          [2, 2],\n",
       "          [2, 3],\n",
       "          [2, 4],\n",
       "          [2, 5],\n",
       "          [2, 6],\n",
       "          [3, 0],\n",
       "          [3, 1],\n",
       "          [3, 2],\n",
       "          [3, 3],\n",
       "          [3, 4],\n",
       "          [3, 5],\n",
       "          [3, 6],\n",
       "          [4, 0],\n",
       "          [4, 1],\n",
       "          [4, 2],\n",
       "          [4, 3],\n",
       "          [4, 4],\n",
       "          [4, 5],\n",
       "          [4, 6],\n",
       "          [5, 1],\n",
       "          [5, 2],\n",
       "          [5, 3],\n",
       "          [5, 4],\n",
       "          [5, 5],\n",
       "          [6, 2],\n",
       "          [6, 3],\n",
       "          [6, 4]]),\n",
       "   array([[1, 2],\n",
       "          [1, 3],\n",
       "          [1, 4],\n",
       "          [1, 5],\n",
       "          [2, 2],\n",
       "          [2, 3],\n",
       "          [2, 4],\n",
       "          [2, 5],\n",
       "          [3, 1],\n",
       "          [3, 2],\n",
       "          [3, 3],\n",
       "          [3, 4],\n",
       "          [3, 5],\n",
       "          [4, 2],\n",
       "          [4, 3],\n",
       "          [4, 4],\n",
       "          [4, 5],\n",
       "          [4, 6],\n",
       "          [5, 2],\n",
       "          [5, 3],\n",
       "          [5, 4],\n",
       "          [5, 5],\n",
       "          [6, 3]]),\n",
       "   array([[0, 2],\n",
       "          [0, 3],\n",
       "          [1, 2],\n",
       "          [1, 3],\n",
       "          [1, 4],\n",
       "          [2, 2],\n",
       "          [2, 3],\n",
       "          [2, 4],\n",
       "          [2, 5],\n",
       "          [3, 2],\n",
       "          [3, 3],\n",
       "          [3, 4],\n",
       "          [3, 5],\n",
       "          [4, 1],\n",
       "          [4, 2],\n",
       "          [4, 3],\n",
       "          [4, 4],\n",
       "          [4, 5],\n",
       "          [5, 1],\n",
       "          [5, 2],\n",
       "          [5, 3],\n",
       "          [5, 4],\n",
       "          [5, 5],\n",
       "          [6, 3],\n",
       "          [6, 4]]),\n",
       "   array([[0, 3],\n",
       "          [1, 1],\n",
       "          [1, 2],\n",
       "          [1, 3],\n",
       "          [1, 4],\n",
       "          [1, 5],\n",
       "          [2, 0],\n",
       "          [2, 1],\n",
       "          [2, 2],\n",
       "          [2, 3],\n",
       "          [2, 4],\n",
       "          [2, 5],\n",
       "          [2, 6],\n",
       "          [3, 0],\n",
       "          [3, 1],\n",
       "          [3, 2],\n",
       "          [3, 3],\n",
       "          [3, 4],\n",
       "          [3, 5],\n",
       "          [3, 6],\n",
       "          [4, 0],\n",
       "          [4, 1],\n",
       "          [4, 2],\n",
       "          [4, 3],\n",
       "          [4, 4],\n",
       "          [4, 5],\n",
       "          [4, 6],\n",
       "          [5, 1],\n",
       "          [5, 2],\n",
       "          [5, 3],\n",
       "          [5, 4],\n",
       "          [5, 5],\n",
       "          [6, 2],\n",
       "          [6, 3],\n",
       "          [6, 4]]),\n",
       "   array([[1, 2],\n",
       "          [1, 3],\n",
       "          [1, 4],\n",
       "          [1, 5],\n",
       "          [2, 2],\n",
       "          [2, 3],\n",
       "          [2, 4],\n",
       "          [2, 5],\n",
       "          [3, 1],\n",
       "          [3, 2],\n",
       "          [3, 3],\n",
       "          [3, 4],\n",
       "          [3, 5],\n",
       "          [4, 2],\n",
       "          [4, 3],\n",
       "          [4, 4],\n",
       "          [4, 5],\n",
       "          [4, 6],\n",
       "          [5, 2],\n",
       "          [5, 3],\n",
       "          [5, 4],\n",
       "          [5, 5],\n",
       "          [6, 3]]),\n",
       "   array([[0, 2],\n",
       "          [0, 3],\n",
       "          [1, 2],\n",
       "          [1, 3],\n",
       "          [1, 4],\n",
       "          [2, 2],\n",
       "          [2, 3],\n",
       "          [2, 4],\n",
       "          [2, 5],\n",
       "          [3, 2],\n",
       "          [3, 3],\n",
       "          [3, 4],\n",
       "          [3, 5],\n",
       "          [4, 1],\n",
       "          [4, 2],\n",
       "          [4, 3],\n",
       "          [4, 4],\n",
       "          [4, 5],\n",
       "          [5, 1],\n",
       "          [5, 2],\n",
       "          [5, 3],\n",
       "          [5, 4],\n",
       "          [5, 5],\n",
       "          [6, 3],\n",
       "          [6, 4]]),\n",
       "   array([[0, 3],\n",
       "          [1, 1],\n",
       "          [1, 2],\n",
       "          [1, 3],\n",
       "          [1, 4],\n",
       "          [1, 5],\n",
       "          [2, 0],\n",
       "          [2, 1],\n",
       "          [2, 2],\n",
       "          [2, 3],\n",
       "          [2, 4],\n",
       "          [2, 5],\n",
       "          [2, 6],\n",
       "          [3, 0],\n",
       "          [3, 1],\n",
       "          [3, 2],\n",
       "          [3, 3],\n",
       "          [3, 4],\n",
       "          [3, 5],\n",
       "          [3, 6],\n",
       "          [4, 0],\n",
       "          [4, 1],\n",
       "          [4, 2],\n",
       "          [4, 3],\n",
       "          [4, 4],\n",
       "          [4, 5],\n",
       "          [4, 6],\n",
       "          [5, 1],\n",
       "          [5, 2],\n",
       "          [5, 3],\n",
       "          [5, 4],\n",
       "          [5, 5],\n",
       "          [6, 2],\n",
       "          [6, 3],\n",
       "          [6, 4]]),\n",
       "   array([[1, 2],\n",
       "          [1, 3],\n",
       "          [1, 4],\n",
       "          [1, 5],\n",
       "          [2, 2],\n",
       "          [2, 3],\n",
       "          [2, 4],\n",
       "          [2, 5],\n",
       "          [3, 1],\n",
       "          [3, 2],\n",
       "          [3, 3],\n",
       "          [3, 4],\n",
       "          [3, 5],\n",
       "          [4, 2],\n",
       "          [4, 3],\n",
       "          [4, 4],\n",
       "          [4, 5],\n",
       "          [4, 6],\n",
       "          [5, 2],\n",
       "          [5, 3],\n",
       "          [5, 4],\n",
       "          [5, 5],\n",
       "          [6, 3]]),\n",
       "   array([[0, 2],\n",
       "          [0, 3],\n",
       "          [1, 2],\n",
       "          [1, 3],\n",
       "          [1, 4],\n",
       "          [2, 2],\n",
       "          [2, 3],\n",
       "          [2, 4],\n",
       "          [2, 5],\n",
       "          [3, 2],\n",
       "          [3, 3],\n",
       "          [3, 4],\n",
       "          [3, 5],\n",
       "          [4, 1],\n",
       "          [4, 2],\n",
       "          [4, 3],\n",
       "          [4, 4],\n",
       "          [4, 5],\n",
       "          [5, 1],\n",
       "          [5, 2],\n",
       "          [5, 3],\n",
       "          [5, 4],\n",
       "          [5, 5],\n",
       "          [6, 3],\n",
       "          [6, 4]])],\n",
       "  'model_meta|features': [array([-0.01462125, -0.01090012,  0.02396434, ...,  0.00919986,\n",
       "           0.00014249, -0.00185554], dtype=float32),\n",
       "   array([-0.01462125, -0.01090012,  0.02396435, ...,  0.00919986,\n",
       "           0.00014249, -0.00185554], dtype=float32),\n",
       "   array([-0.01462125, -0.01090013,  0.02396436, ...,  0.00919986,\n",
       "           0.00014249, -0.00185554], dtype=float32),\n",
       "   array([-0.01462125, -0.01090012,  0.02396434, ...,  0.00919986,\n",
       "           0.00014249, -0.00185554], dtype=float32),\n",
       "   array([-0.01462125, -0.01090012,  0.02396435, ...,  0.00919986,\n",
       "           0.00014249, -0.00185554], dtype=float32),\n",
       "   array([-0.01462125, -0.01090013,  0.02396436, ...,  0.00919986,\n",
       "           0.00014249, -0.00185554], dtype=float32),\n",
       "   array([-0.01462125, -0.01090012,  0.02396434, ...,  0.00919986,\n",
       "           0.00014249, -0.00185554], dtype=float32),\n",
       "   array([-0.01462125, -0.01090012,  0.02396435, ...,  0.00919986,\n",
       "           0.00014249, -0.00185554], dtype=float32),\n",
       "   array([-0.01462125, -0.01090013,  0.02396436, ...,  0.00919986,\n",
       "           0.00014249, -0.00185554], dtype=float32)]}}"
      ]
     },
     "execution_count": 11,
     "metadata": {},
     "output_type": "execute_result"
    }
   ],
   "source": [
    "from src.utils import output_collate, transform_collated_output\n",
    "\n",
    "predictions_transformed = transform_collated_output(output_collate(predictions))\n",
    "predictions_transformed"
   ]
  },
  {
   "cell_type": "code",
   "execution_count": 12,
   "metadata": {},
   "outputs": [],
   "source": [
    "# save to pickle\n",
    "import pickle\n",
    "\n",
    "with open('predictions_ca.pkl', 'wb') as f:\n",
    "    pickle.dump(predictions_transformed, f)"
   ]
  }
 ],
 "metadata": {
  "language_info": {
   "name": "python"
  }
 },
 "nbformat": 4,
 "nbformat_minor": 2
}
