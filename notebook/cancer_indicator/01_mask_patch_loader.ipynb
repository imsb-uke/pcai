{
 "cells": [
  {
   "cell_type": "code",
   "execution_count": 1,
   "metadata": {},
   "outputs": [],
   "source": [
    "%load_ext autoreload\n",
    "%autoreload 2"
   ]
  },
  {
   "cell_type": "code",
   "execution_count": 2,
   "metadata": {},
   "outputs": [],
   "source": [
    "import sys\n",
    "sys.path.append('../../')\n",
    "\n",
    "import matplotlib.pyplot as plt"
   ]
  },
  {
   "cell_type": "code",
   "execution_count": 3,
   "metadata": {},
   "outputs": [],
   "source": [
    "img_base_dir = '../../data/panda/images/'\n",
    "mask_base_dir = '../../data/panda/masks_prep/'\n",
    "patch_size = 256"
   ]
  },
  {
   "cell_type": "code",
   "execution_count": 4,
   "metadata": {},
   "outputs": [
    {
     "name": "stderr",
     "output_type": "stream",
     "text": [
      "Removed 0 image/mask pairs. (not found)\n"
     ]
    },
    {
     "data": {
      "text/plain": [
       "['00e6511435645e50673991768a713c66.tiff',\n",
       " '000920ad0b612851f8e01bcc880d9b3d.tiff',\n",
       " '004dd32d9cd167d9cc31c13b704498af.tiff',\n",
       " '00c15b23b30a5ba061358d9641118904.tiff',\n",
       " '005e66f06bce9c2e49142536caf2f6ee.tiff',\n",
       " '002a4db09dad406c85505a00fb6f6144.tiff',\n",
       " '00ed4dbf9af6cc102e04cc9a42b313e2.tiff',\n",
       " '003046e27c8ead3e3db155780dc5498e.tiff',\n",
       " '0076bcb66e46fb485f5ba432b9a1fe8a.tiff',\n",
       " '00a76bfbec239fd9f465d6581806ff42.tiff',\n",
       " '001d865e65ef5d2579c190a0e0350d8f.tiff',\n",
       " '008069b542b0439ed69b194674051964.tiff',\n",
       " '001c62abd11fa4b57bf7a6c603a11bb9.tiff',\n",
       " '0018ae58b01bdadc8e347995b69f99aa.tiff',\n",
       " '003a91841da04a5a31f808fb5c21538a.tiff',\n",
       " '00bbc1482301d16de3ff63238cfd0b34.tiff',\n",
       " '00d8a8c04886379e266406fdeff81c45.tiff',\n",
       " '0068d4c7529e34fd4c9da863ce01a161.tiff',\n",
       " '007433133235efc27a39f11df6940829.tiff',\n",
       " '00ee879798782aca1248baa9132d7307.tiff',\n",
       " '0005f7aaab2800f6170c399693a96917.tiff',\n",
       " '00fbee5161d8cc715b3fe69e16cdf147.tiff',\n",
       " '00ca0c23961b5510be46c917be11c43e.tiff',\n",
       " '00a26aaa82c959624d90dfb69fcf259c.tiff',\n",
       " '00c46b336b5b06423fcdec1b4d5bee06.tiff',\n",
       " '00928370e2dfeb8a507667ef1d4efcbb.tiff',\n",
       " '00c52cb4db1c7a5811a8f070a910c038.tiff',\n",
       " '00a7fb880dc12c5de82df39b30533da9.tiff',\n",
       " '0032bfa835ce0f43a92ae0bbab6871cb.tiff',\n",
       " '008308f099f0c565fbc024ece6b8b08c.tiff',\n",
       " '004391d48d58b18156f811087cd38abf.tiff',\n",
       " '006f4d8d3556dd21f6424202c2d294a9.tiff',\n",
       " '004f6b3a66189b4e88b6a01ba19d7d31.tiff',\n",
       " '00a97615a51ba4c475bdec8505623bf9.tiff',\n",
       " '00d7ec94436e3a1416a3b302914957d3.tiff',\n",
       " '006f6aa35a78965c92fffd1fbd53a058.tiff',\n",
       " '003d4dd6bd61221ebc0bfb9350db333f.tiff',\n",
       " '00951a7fad040bf7e90f32e81fc0746f.tiff',\n",
       " '00f6ea010b008e7b3635910a13b165a5.tiff',\n",
       " '00412139e6b04d1e1cee8421f38f6e90.tiff']"
      ]
     },
     "execution_count": 4,
     "metadata": {},
     "output_type": "execute_result"
    }
   ],
   "source": [
    "import os\n",
    "from src.cancer_indicator.patch_mask_preparer import PatchMaskPreparer\n",
    "\n",
    "pmp = PatchMaskPreparer(\n",
    "    image_base_dir=img_base_dir,\n",
    "    mask_base_dir=mask_base_dir,\n",
    "    patch_size=patch_size,\n",
    "    mask_filename_suffix=\"_mask\",\n",
    "    fg_mask_channel=3,\n",
    "    fg_mask_invert=False,\n",
    "    label_mask_channel=2,\n",
    "    label_mask_invert=False,\n",
    "    mask_downsample_rate=16,\n",
    "    label_mask_threshold=0.5,\n",
    "    fg_mask_threshold=0.1,\n",
    ")\n",
    "\n",
    "fns = pmp.get_filenames()\n",
    "fns"
   ]
  },
  {
   "cell_type": "code",
   "execution_count": 21,
   "metadata": {},
   "outputs": [
    {
     "name": "stderr",
     "output_type": "stream",
     "text": [
      "Removed 0 image/mask pairs. (not found)\n"
     ]
    },
    {
     "name": "stdout",
     "output_type": "stream",
     "text": [
      "00a97615a51ba4c475bdec8505623bf9.tiff\n",
      "split\n",
      "train    24\n",
      "test     15\n",
      "val       1\n",
      "Name: count, dtype: int64\n"
     ]
    }
   ],
   "source": [
    "import pandas as pd\n",
    "\n",
    "def get_split(filename):\n",
    "    if filename[2] < 'a':\n",
    "        return 'train'\n",
    "    elif (filename[2] == 'a') and (filename[3] == '9'):\n",
    "        print(filename)\n",
    "        return 'val'\n",
    "    else:\n",
    "        return 'test'\n",
    "\n",
    "\n",
    "# generate train and test split in metadata by filename\n",
    "\n",
    "tmp_df = (\n",
    "    pd.DataFrame(pmp.get_filenames(), columns=['filename'])\n",
    "    .assign(id_=lambda df_: df_['filename'].apply(lambda x: os.path.splitext(x)[0]))\n",
    "    .set_index(\"id_\")\n",
    "    .assign(split=lambda df_: df_['filename'].apply(get_split))\n",
    ")\n",
    "tmp_df.to_csv('../../data/panda/metadata.csv')\n",
    "tmp_df\n",
    "\n",
    "print(tmp_df.split.value_counts())"
   ]
  },
  {
   "cell_type": "code",
   "execution_count": 14,
   "metadata": {},
   "outputs": [
    {
     "name": "stderr",
     "output_type": "stream",
     "text": [
      "Removed 0 image/mask pairs. (not found)\n",
      "Loading Patch Coords from cache...\n",
      "Loading Uncached Patches: 0it [00:00, ?it/s]\n"
     ]
    },
    {
     "data": {
      "text/html": [
       "<div>\n",
       "<style scoped>\n",
       "    .dataframe tbody tr th:only-of-type {\n",
       "        vertical-align: middle;\n",
       "    }\n",
       "\n",
       "    .dataframe tbody tr th {\n",
       "        vertical-align: top;\n",
       "    }\n",
       "\n",
       "    .dataframe thead th {\n",
       "        text-align: right;\n",
       "    }\n",
       "</style>\n",
       "<table border=\"1\" class=\"dataframe\">\n",
       "  <thead>\n",
       "    <tr style=\"text-align: right;\">\n",
       "      <th></th>\n",
       "      <th>filename</th>\n",
       "      <th>row</th>\n",
       "      <th>col</th>\n",
       "      <th>value</th>\n",
       "      <th>label</th>\n",
       "    </tr>\n",
       "  </thead>\n",
       "  <tbody>\n",
       "    <tr>\n",
       "      <th>0</th>\n",
       "      <td>004391d48d58b18156f811087cd38abf.tiff</td>\n",
       "      <td>10</td>\n",
       "      <td>91</td>\n",
       "      <td>1.0</td>\n",
       "      <td>1.0</td>\n",
       "    </tr>\n",
       "    <tr>\n",
       "      <th>1</th>\n",
       "      <td>004391d48d58b18156f811087cd38abf.tiff</td>\n",
       "      <td>10</td>\n",
       "      <td>92</td>\n",
       "      <td>1.0</td>\n",
       "      <td>1.0</td>\n",
       "    </tr>\n",
       "    <tr>\n",
       "      <th>2</th>\n",
       "      <td>004391d48d58b18156f811087cd38abf.tiff</td>\n",
       "      <td>11</td>\n",
       "      <td>90</td>\n",
       "      <td>1.0</td>\n",
       "      <td>1.0</td>\n",
       "    </tr>\n",
       "    <tr>\n",
       "      <th>3</th>\n",
       "      <td>004391d48d58b18156f811087cd38abf.tiff</td>\n",
       "      <td>11</td>\n",
       "      <td>91</td>\n",
       "      <td>1.0</td>\n",
       "      <td>1.0</td>\n",
       "    </tr>\n",
       "    <tr>\n",
       "      <th>4</th>\n",
       "      <td>004391d48d58b18156f811087cd38abf.tiff</td>\n",
       "      <td>11</td>\n",
       "      <td>92</td>\n",
       "      <td>1.0</td>\n",
       "      <td>1.0</td>\n",
       "    </tr>\n",
       "    <tr>\n",
       "      <th>...</th>\n",
       "      <td>...</td>\n",
       "      <td>...</td>\n",
       "      <td>...</td>\n",
       "      <td>...</td>\n",
       "      <td>...</td>\n",
       "    </tr>\n",
       "    <tr>\n",
       "      <th>21315</th>\n",
       "      <td>00d8a8c04886379e266406fdeff81c45.tiff</td>\n",
       "      <td>90</td>\n",
       "      <td>5</td>\n",
       "      <td>0.0</td>\n",
       "      <td>0.0</td>\n",
       "    </tr>\n",
       "    <tr>\n",
       "      <th>21316</th>\n",
       "      <td>00d8a8c04886379e266406fdeff81c45.tiff</td>\n",
       "      <td>90</td>\n",
       "      <td>6</td>\n",
       "      <td>0.0</td>\n",
       "      <td>0.0</td>\n",
       "    </tr>\n",
       "    <tr>\n",
       "      <th>21317</th>\n",
       "      <td>00d8a8c04886379e266406fdeff81c45.tiff</td>\n",
       "      <td>90</td>\n",
       "      <td>7</td>\n",
       "      <td>0.0</td>\n",
       "      <td>0.0</td>\n",
       "    </tr>\n",
       "    <tr>\n",
       "      <th>21318</th>\n",
       "      <td>00d8a8c04886379e266406fdeff81c45.tiff</td>\n",
       "      <td>91</td>\n",
       "      <td>3</td>\n",
       "      <td>0.0</td>\n",
       "      <td>0.0</td>\n",
       "    </tr>\n",
       "    <tr>\n",
       "      <th>21319</th>\n",
       "      <td>00d8a8c04886379e266406fdeff81c45.tiff</td>\n",
       "      <td>91</td>\n",
       "      <td>4</td>\n",
       "      <td>0.0</td>\n",
       "      <td>0.0</td>\n",
       "    </tr>\n",
       "  </tbody>\n",
       "</table>\n",
       "<p>21105 rows × 5 columns</p>\n",
       "</div>"
      ],
      "text/plain": [
       "                                    filename row col  value  label\n",
       "0      004391d48d58b18156f811087cd38abf.tiff  10  91    1.0    1.0\n",
       "1      004391d48d58b18156f811087cd38abf.tiff  10  92    1.0    1.0\n",
       "2      004391d48d58b18156f811087cd38abf.tiff  11  90    1.0    1.0\n",
       "3      004391d48d58b18156f811087cd38abf.tiff  11  91    1.0    1.0\n",
       "4      004391d48d58b18156f811087cd38abf.tiff  11  92    1.0    1.0\n",
       "...                                      ...  ..  ..    ...    ...\n",
       "21315  00d8a8c04886379e266406fdeff81c45.tiff  90   5    0.0    0.0\n",
       "21316  00d8a8c04886379e266406fdeff81c45.tiff  90   6    0.0    0.0\n",
       "21317  00d8a8c04886379e266406fdeff81c45.tiff  90   7    0.0    0.0\n",
       "21318  00d8a8c04886379e266406fdeff81c45.tiff  91   3    0.0    0.0\n",
       "21319  00d8a8c04886379e266406fdeff81c45.tiff  91   4    0.0    0.0\n",
       "\n",
       "[21105 rows x 5 columns]"
      ]
     },
     "execution_count": 14,
     "metadata": {},
     "output_type": "execute_result"
    }
   ],
   "source": [
    "coords_df = pmp.get_patch_coords(fns)\n",
    "coords_df"
   ]
  },
  {
   "cell_type": "code",
   "execution_count": 15,
   "metadata": {},
   "outputs": [
    {
     "name": "stdout",
     "output_type": "stream",
     "text": [
      "0005f7aaab2800f6170c399693a96917.tiff\n"
     ]
    },
    {
     "ename": "KeyboardInterrupt",
     "evalue": "",
     "output_type": "error",
     "traceback": [
      "\u001b[0;31m---------------------------------------------------------------------------\u001b[0m",
      "\u001b[0;31mKeyboardInterrupt\u001b[0m                         Traceback (most recent call last)",
      "Cell \u001b[0;32mIn[15], line 3\u001b[0m\n\u001b[1;32m      1\u001b[0m \u001b[38;5;28;01mfor\u001b[39;00m i, (name, fn_df) \u001b[38;5;129;01min\u001b[39;00m \u001b[38;5;28menumerate\u001b[39m(coords_df\u001b[38;5;241m.\u001b[39mgroupby(\u001b[38;5;124m'\u001b[39m\u001b[38;5;124mfilename\u001b[39m\u001b[38;5;124m'\u001b[39m)):\n\u001b[1;32m      2\u001b[0m     \u001b[38;5;28mprint\u001b[39m(name)\n\u001b[0;32m----> 3\u001b[0m     ax \u001b[38;5;241m=\u001b[39m \u001b[43mpmp\u001b[49m\u001b[38;5;241;43m.\u001b[39;49m\u001b[43m_plot_patch_mask_overview\u001b[49m\u001b[43m(\u001b[49m\u001b[43mfn_df\u001b[49m\u001b[43m)\u001b[49m\n\u001b[1;32m      4\u001b[0m     ax\u001b[38;5;241m.\u001b[39mset_title(name)\n\u001b[1;32m      5\u001b[0m     plt\u001b[38;5;241m.\u001b[39mshow()\n",
      "File \u001b[0;32m~/pcai/notebook/cancer_indicator/../../src/cancer_indicator/patch_mask_preparer.py:213\u001b[0m, in \u001b[0;36mPatchMaskPreparer._plot_patch_mask_overview\u001b[0;34m(self, image_coords_df, tn_downsample_rate, label_col, cmap, vmin, vmax, alpha, ax, plot_grid, **plot_kwargs)\u001b[0m\n\u001b[1;32m    209\u001b[0m \u001b[38;5;28;01mif\u001b[39;00m plot_grid:\n\u001b[1;32m    210\u001b[0m     default_params \u001b[38;5;241m=\u001b[39m \u001b[38;5;28mdict\u001b[39m(\n\u001b[1;32m    211\u001b[0m         every_k_coordinates\u001b[38;5;241m=\u001b[39m\u001b[38;5;241m5\u001b[39m,\n\u001b[1;32m    212\u001b[0m     )\n\u001b[0;32m--> 213\u001b[0m     \u001b[43mpatch_loader\u001b[49m\u001b[38;5;241;43m.\u001b[39;49m\u001b[43mplot_patch_overview\u001b[49m\u001b[43m(\u001b[49m\n\u001b[1;32m    214\u001b[0m \u001b[43m        \u001b[49m\u001b[43mtn_downsample_rate\u001b[49m\u001b[38;5;241;43m=\u001b[39;49m\u001b[43mtn_downsample_rate\u001b[49m\u001b[43m,\u001b[49m\n\u001b[1;32m    215\u001b[0m \u001b[43m        \u001b[49m\u001b[43max\u001b[49m\u001b[38;5;241;43m=\u001b[39;49m\u001b[43max\u001b[49m\u001b[43m,\u001b[49m\n\u001b[1;32m    216\u001b[0m \u001b[43m        \u001b[49m\u001b[38;5;241;43m*\u001b[39;49m\u001b[38;5;241;43m*\u001b[39;49m\u001b[43m(\u001b[49m\u001b[43mdefault_params\u001b[49m\u001b[43m \u001b[49m\u001b[38;5;241;43m|\u001b[39;49m\u001b[43m \u001b[49m\u001b[43mplot_kwargs\u001b[49m\u001b[43m)\u001b[49m\u001b[43m,\u001b[49m\n\u001b[1;32m    217\u001b[0m \u001b[43m    \u001b[49m\u001b[43m)\u001b[49m\n\u001b[1;32m    218\u001b[0m \u001b[38;5;28;01melse\u001b[39;00m:\n\u001b[1;32m    219\u001b[0m     ax\u001b[38;5;241m.\u001b[39mimshow(patch_loader\u001b[38;5;241m.\u001b[39mget_image(tn_downsample_rate\u001b[38;5;241m=\u001b[39mtn_downsample_rate))\n",
      "File \u001b[0;32m~/pcai/notebook/cancer_indicator/../../src/patch_loader.py:120\u001b[0m, in \u001b[0;36mOpenslidePatchLoader.plot_patch_overview\u001b[0;34m(self, tn_downsample_rate, every_k_coordinates, ax, labeltop, labelright, draw_grid, **lines_kwargs)\u001b[0m\n\u001b[1;32m    108\u001b[0m \u001b[38;5;28;01mdef\u001b[39;00m \u001b[38;5;21mplot_patch_overview\u001b[39m(\n\u001b[1;32m    109\u001b[0m     \u001b[38;5;28mself\u001b[39m,\n\u001b[1;32m    110\u001b[0m     tn_downsample_rate\u001b[38;5;241m=\u001b[39m\u001b[38;5;241m16\u001b[39m,\n\u001b[0;32m   (...)\u001b[0m\n\u001b[1;32m    116\u001b[0m     \u001b[38;5;241m*\u001b[39m\u001b[38;5;241m*\u001b[39mlines_kwargs,\n\u001b[1;32m    117\u001b[0m ):\n\u001b[1;32m    118\u001b[0m     ax \u001b[38;5;241m=\u001b[39m ax \u001b[38;5;129;01mor\u001b[39;00m plt\u001b[38;5;241m.\u001b[39mgca()\n\u001b[0;32m--> 120\u001b[0m     image \u001b[38;5;241m=\u001b[39m \u001b[38;5;28;43mself\u001b[39;49m\u001b[38;5;241;43m.\u001b[39;49m\u001b[43mget_image\u001b[49m\u001b[43m(\u001b[49m\u001b[43mtn_downsample_rate\u001b[49m\u001b[38;5;241;43m=\u001b[39;49m\u001b[43mtn_downsample_rate\u001b[49m\u001b[43m)\u001b[49m\n\u001b[1;32m    121\u001b[0m     ax\u001b[38;5;241m.\u001b[39mimshow(image)\n\u001b[1;32m    123\u001b[0m     img_size \u001b[38;5;241m=\u001b[39m image\u001b[38;5;241m.\u001b[39mshape[:\u001b[38;5;241m2\u001b[39m]\n",
      "File \u001b[0;32m~/pcai/notebook/cancer_indicator/../../src/patch_loader.py:105\u001b[0m, in \u001b[0;36mOpenslidePatchLoader.get_image\u001b[0;34m(self, tn_downsample_rate)\u001b[0m\n\u001b[1;32m    104\u001b[0m \u001b[38;5;28;01mdef\u001b[39;00m \u001b[38;5;21mget_image\u001b[39m(\u001b[38;5;28mself\u001b[39m, tn_downsample_rate\u001b[38;5;241m=\u001b[39m\u001b[38;5;241m1\u001b[39m):\n\u001b[0;32m--> 105\u001b[0m     img, _ \u001b[38;5;241m=\u001b[39m \u001b[43m_downsample_slide\u001b[49m\u001b[43m(\u001b[49m\u001b[38;5;28;43mself\u001b[39;49m\u001b[38;5;241;43m.\u001b[39;49m\u001b[43mslide\u001b[49m\u001b[43m,\u001b[49m\u001b[43m \u001b[49m\u001b[43mtn_downsample_rate\u001b[49m\u001b[43m)\u001b[49m\n\u001b[1;32m    106\u001b[0m     \u001b[38;5;28;01mreturn\u001b[39;00m img\n",
      "File \u001b[0;32m~/pcai/notebook/cancer_indicator/../../src/patch_loader.py:193\u001b[0m, in \u001b[0;36m_downsample_slide\u001b[0;34m(slide, downsampling_factor, mode)\u001b[0m\n\u001b[1;32m    189\u001b[0m svs_native_levelimg \u001b[38;5;241m=\u001b[39m slide\u001b[38;5;241m.\u001b[39mread_region(\n\u001b[1;32m    190\u001b[0m     (\u001b[38;5;241m0\u001b[39m, \u001b[38;5;241m0\u001b[39m), best_downsampling_level, slide\u001b[38;5;241m.\u001b[39mlevel_dimensions[best_downsampling_level]\n\u001b[1;32m    191\u001b[0m )\n\u001b[1;32m    192\u001b[0m target_size \u001b[38;5;241m=\u001b[39m \u001b[38;5;28mtuple\u001b[39m(\u001b[38;5;28mint\u001b[39m(x \u001b[38;5;241m/\u001b[39m\u001b[38;5;241m/\u001b[39m downsampling_factor) \u001b[38;5;28;01mfor\u001b[39;00m x \u001b[38;5;129;01min\u001b[39;00m slide\u001b[38;5;241m.\u001b[39mdimensions)\n\u001b[0;32m--> 193\u001b[0m img \u001b[38;5;241m=\u001b[39m \u001b[43msvs_native_levelimg\u001b[49m\u001b[38;5;241;43m.\u001b[39;49m\u001b[43mresize\u001b[49m\u001b[43m(\u001b[49m\u001b[43mtarget_size\u001b[49m\u001b[43m)\u001b[49m\n\u001b[1;32m    195\u001b[0m \u001b[38;5;66;03m# By default, return a numpy array as RGB, otherwise, return PIL image\u001b[39;00m\n\u001b[1;32m    196\u001b[0m \u001b[38;5;28;01mif\u001b[39;00m mode \u001b[38;5;241m==\u001b[39m \u001b[38;5;124m\"\u001b[39m\u001b[38;5;124mnumpy\u001b[39m\u001b[38;5;124m\"\u001b[39m:\n\u001b[1;32m    197\u001b[0m     \u001b[38;5;66;03m# Remove the alpha channel\u001b[39;00m\n",
      "File \u001b[0;32m~/.conda/envs/env-pcai/lib/python3.10/site-packages/PIL/Image.py:2178\u001b[0m, in \u001b[0;36mImage.resize\u001b[0;34m(self, size, resample, box, reducing_gap)\u001b[0m\n\u001b[1;32m   2176\u001b[0m \u001b[38;5;28;01mif\u001b[39;00m \u001b[38;5;28mself\u001b[39m\u001b[38;5;241m.\u001b[39mmode \u001b[38;5;129;01min\u001b[39;00m [\u001b[38;5;124m\"\u001b[39m\u001b[38;5;124mLA\u001b[39m\u001b[38;5;124m\"\u001b[39m, \u001b[38;5;124m\"\u001b[39m\u001b[38;5;124mRGBA\u001b[39m\u001b[38;5;124m\"\u001b[39m] \u001b[38;5;129;01mand\u001b[39;00m resample \u001b[38;5;241m!=\u001b[39m Resampling\u001b[38;5;241m.\u001b[39mNEAREST:\n\u001b[1;32m   2177\u001b[0m     im \u001b[38;5;241m=\u001b[39m \u001b[38;5;28mself\u001b[39m\u001b[38;5;241m.\u001b[39mconvert({\u001b[38;5;124m\"\u001b[39m\u001b[38;5;124mLA\u001b[39m\u001b[38;5;124m\"\u001b[39m: \u001b[38;5;124m\"\u001b[39m\u001b[38;5;124mLa\u001b[39m\u001b[38;5;124m\"\u001b[39m, \u001b[38;5;124m\"\u001b[39m\u001b[38;5;124mRGBA\u001b[39m\u001b[38;5;124m\"\u001b[39m: \u001b[38;5;124m\"\u001b[39m\u001b[38;5;124mRGBa\u001b[39m\u001b[38;5;124m\"\u001b[39m}[\u001b[38;5;28mself\u001b[39m\u001b[38;5;241m.\u001b[39mmode])\n\u001b[0;32m-> 2178\u001b[0m     im \u001b[38;5;241m=\u001b[39m \u001b[43mim\u001b[49m\u001b[38;5;241;43m.\u001b[39;49m\u001b[43mresize\u001b[49m\u001b[43m(\u001b[49m\u001b[43msize\u001b[49m\u001b[43m,\u001b[49m\u001b[43m \u001b[49m\u001b[43mresample\u001b[49m\u001b[43m,\u001b[49m\u001b[43m \u001b[49m\u001b[43mbox\u001b[49m\u001b[43m)\u001b[49m\n\u001b[1;32m   2179\u001b[0m     \u001b[38;5;28;01mreturn\u001b[39;00m im\u001b[38;5;241m.\u001b[39mconvert(\u001b[38;5;28mself\u001b[39m\u001b[38;5;241m.\u001b[39mmode)\n\u001b[1;32m   2181\u001b[0m \u001b[38;5;28mself\u001b[39m\u001b[38;5;241m.\u001b[39mload()\n",
      "File \u001b[0;32m~/.conda/envs/env-pcai/lib/python3.10/site-packages/PIL/Image.py:2200\u001b[0m, in \u001b[0;36mImage.resize\u001b[0;34m(self, size, resample, box, reducing_gap)\u001b[0m\n\u001b[1;32m   2192\u001b[0m             \u001b[38;5;28mself\u001b[39m \u001b[38;5;241m=\u001b[39m Image\u001b[38;5;241m.\u001b[39mreduce(\u001b[38;5;28mself\u001b[39m, factor, box\u001b[38;5;241m=\u001b[39mreduce_box)\n\u001b[1;32m   2193\u001b[0m         box \u001b[38;5;241m=\u001b[39m (\n\u001b[1;32m   2194\u001b[0m             (box[\u001b[38;5;241m0\u001b[39m] \u001b[38;5;241m-\u001b[39m reduce_box[\u001b[38;5;241m0\u001b[39m]) \u001b[38;5;241m/\u001b[39m factor_x,\n\u001b[1;32m   2195\u001b[0m             (box[\u001b[38;5;241m1\u001b[39m] \u001b[38;5;241m-\u001b[39m reduce_box[\u001b[38;5;241m1\u001b[39m]) \u001b[38;5;241m/\u001b[39m factor_y,\n\u001b[1;32m   2196\u001b[0m             (box[\u001b[38;5;241m2\u001b[39m] \u001b[38;5;241m-\u001b[39m reduce_box[\u001b[38;5;241m0\u001b[39m]) \u001b[38;5;241m/\u001b[39m factor_x,\n\u001b[1;32m   2197\u001b[0m             (box[\u001b[38;5;241m3\u001b[39m] \u001b[38;5;241m-\u001b[39m reduce_box[\u001b[38;5;241m1\u001b[39m]) \u001b[38;5;241m/\u001b[39m factor_y,\n\u001b[1;32m   2198\u001b[0m         )\n\u001b[0;32m-> 2200\u001b[0m \u001b[38;5;28;01mreturn\u001b[39;00m \u001b[38;5;28mself\u001b[39m\u001b[38;5;241m.\u001b[39m_new(\u001b[38;5;28;43mself\u001b[39;49m\u001b[38;5;241;43m.\u001b[39;49m\u001b[43mim\u001b[49m\u001b[38;5;241;43m.\u001b[39;49m\u001b[43mresize\u001b[49m\u001b[43m(\u001b[49m\u001b[43msize\u001b[49m\u001b[43m,\u001b[49m\u001b[43m \u001b[49m\u001b[43mresample\u001b[49m\u001b[43m,\u001b[49m\u001b[43m \u001b[49m\u001b[43mbox\u001b[49m\u001b[43m)\u001b[49m)\n",
      "\u001b[0;31mKeyboardInterrupt\u001b[0m: "
     ]
    },
    {
     "data": {
      "image/png": "[encoded data removed]",
      "text/plain": [
       "<Figure size 640x480 with 1 Axes>"
      ]
     },
     "metadata": {},
     "output_type": "display_data"
    }
   ],
   "source": [
    "for i, (name, fn_df) in enumerate(coords_df.groupby('filename')):\n",
    "    print(name)\n",
    "    ax = pmp._plot_patch_mask_overview(fn_df)\n",
    "    ax.set_title(name)\n",
    "    plt.show()\n",
    "\n",
    "    if i>3:\n",
    "        break"
   ]
  }
 ],
 "metadata": {
  "kernelspec": {
   "display_name": "env-pcai",
   "language": "python",
   "name": "python3"
  },
  "language_info": {
   "codemirror_mode": {
    "name": "ipython",
    "version": 3
   },
   "file_extension": ".py",
   "mimetype": "text/x-python",
   "name": "python",
   "nbconvert_exporter": "python",
   "pygments_lexer": "ipython3",
   "version": "3.10.14"
  }
 },
 "nbformat": 4,
 "nbformat_minor": 2
}
