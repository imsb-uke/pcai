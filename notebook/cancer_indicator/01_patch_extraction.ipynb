{
 "cells": [
  {
   "cell_type": "code",
   "execution_count": null,
   "metadata": {},
   "outputs": [],
   "source": [
    "%load_ext autoreload\n",
    "%autoreload 2"
   ]
  },
  {
   "cell_type": "code",
   "execution_count": null,
   "metadata": {},
   "outputs": [],
   "source": [
    "import sys\n",
    "sys.path.append('../../')\n",
    "\n",
    "import matplotlib.pyplot as plt"
   ]
  },
  {
   "cell_type": "code",
   "execution_count": null,
   "metadata": {},
   "outputs": [],
   "source": [
    "# Default locations and patch size\n",
    "\n",
    "img_base_dir = '../../data/panda/images/'\n",
    "mask_base_dir = '../../data/panda/masks_prep/'\n",
    "patch_size = 256"
   ]
  },
  {
   "cell_type": "code",
   "execution_count": null,
   "metadata": {},
   "outputs": [],
   "source": [
    "import os\n",
    "from src.cancer_indicator.patch_mask_preparer import PatchMaskPreparer\n",
    "\n",
    "# The prepared masks all have:\n",
    "pmp = PatchMaskPreparer(\n",
    "    image_base_dir=img_base_dir,                # directory that contains the images (*.tiff)\n",
    "    mask_base_dir=mask_base_dir,                # directory that contains the processed masks (*.tiff)\n",
    "    mask_filename_suffix=\"_mask\",               # suffix to add to the image filename to get the mask filename\n",
    "    \n",
    "    # The preprocessed masks have the following attributed\n",
    "    mask_downsample_rate=16,                    # downsampled by a factor of 16 compared to the original image\n",
    "    fg_mask_channel=3,                          # mask channel that contains the foreground mask is at position 3\n",
    "    label_mask_channel=2,                       # mask channel that contains the label mask (cancer yes no) is at position 2\n",
    "    \n",
    "    # The following thresholds define the patch-wise label generation from the segmentation masks \n",
    "    patch_size=patch_size,                      # patch size to use\n",
    "    label_mask_threshold=0.5,                   # minimum relative amount of fg on the patch\n",
    "    fg_mask_threshold=0.1,                      # minimum amount of cancer on the tissue to be considered a cancerous patch\n",
    ")\n",
    "\n",
    "fns = pmp.get_filenames()\n",
    "fns"
   ]
  },
  {
   "cell_type": "code",
   "execution_count": null,
   "metadata": {},
   "outputs": [],
   "source": [
    "coords_df = pmp.get_patch_coords(fns)\n",
    "coords_df"
   ]
  },
  {
   "cell_type": "code",
   "execution_count": null,
   "metadata": {},
   "outputs": [],
   "source": [
    "# From the dataframe, plot the labels on top of the corresponding patches as a green and red overlay\n",
    "for i, (name, fn_df) in enumerate(coords_df.groupby('filename')):\n",
    "    ax = pmp._plot_patch_mask_overview(fn_df)\n",
    "    ax.set_title(name)\n",
    "    plt.savefig(f'output/patch_mask_overview_{i}.png', bbox_inches='tight')\n",
    "    plt.show()\n",
    "\n",
    "    if i>3:\n",
    "        break"
   ]
  }
 ],
 "metadata": {
  "kernelspec": {
   "display_name": "env-pcai",
   "language": "python",
   "name": "python3"
  },
  "language_info": {
   "codemirror_mode": {
    "name": "ipython",
    "version": 3
   },
   "file_extension": ".py",
   "mimetype": "text/x-python",
   "name": "python",
   "nbconvert_exporter": "python",
   "pygments_lexer": "ipython3",
   "version": "3.10.14"
  }
 },
 "nbformat": 4,
 "nbformat_minor": 2
}
