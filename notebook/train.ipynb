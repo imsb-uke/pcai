{
 "cells": [
  {
   "cell_type": "code",
   "execution_count": 82,
   "metadata": {},
   "outputs": [
    {
     "name": "stdout",
     "output_type": "stream",
     "text": [
      "The autoreload extension is already loaded. To reload it, use:\n",
      "  %reload_ext autoreload\n"
     ]
    }
   ],
   "source": [
    "%load_ext autoreload\n",
    "%autoreload 2"
   ]
  },
  {
   "cell_type": "code",
   "execution_count": 83,
   "metadata": {},
   "outputs": [],
   "source": [
    "import sys\n",
    "sys.path.append('../')"
   ]
  },
  {
   "cell_type": "code",
   "execution_count": 84,
   "metadata": {},
   "outputs": [],
   "source": [
    "import os\n",
    "from src.pcai_datamodule import PatchDataModule\n",
    "from src.pcai_litmodule import LitModuleClasAdversarial"
   ]
  },
  {
   "cell_type": "code",
   "execution_count": 85,
   "metadata": {},
   "outputs": [],
   "source": [
    "dataset_dir = '../data/tma_dataset/'\n",
    "image_base_dir = os.path.join(dataset_dir, \"images\")\n",
    "mask_base_dir = os.path.join(dataset_dir, \"masks/masks/\")\n",
    "metadata_path = os.path.join(dataset_dir, 'metadata/metadata.csv')"
   ]
  },
  {
   "cell_type": "code",
   "execution_count": 86,
   "metadata": {},
   "outputs": [],
   "source": [
    "datamodule = PatchDataModule(\n",
    "    metadata_path=metadata_path,\n",
    "    image_base_dir=image_base_dir,\n",
    "    mask_base_dir=mask_base_dir,  \n",
    "    label_cols_clas=['event_duration', 'event_indicator'],\n",
    "    label_col_domain=['domain'],\n",
    "    patch_size=14,\n",
    "    n_patches=5, # return 5 patches per bag\n",
    "    batch_size=2,\n",
    ")\n",
    "\n",
    "datamodule.setup(\"fit\")"
   ]
  },
  {
   "cell_type": "code",
   "execution_count": 87,
   "metadata": {},
   "outputs": [
    {
     "data": {
      "text/plain": [
       "4"
      ]
     },
     "execution_count": 87,
     "metadata": {},
     "output_type": "execute_result"
    }
   ],
   "source": [
    "sample = next(iter(datamodule.train_dataloader()))\n",
    "len(sample)"
   ]
  },
  {
   "cell_type": "code",
   "execution_count": 88,
   "metadata": {},
   "outputs": [
    {
     "data": {
      "text/plain": [
       "torch.Size([2, 5, 3, 14, 14])"
      ]
     },
     "execution_count": 88,
     "metadata": {},
     "output_type": "execute_result"
    }
   ],
   "source": [
    "sample[0].shape"
   ]
  },
  {
   "cell_type": "code",
   "execution_count": 89,
   "metadata": {},
   "outputs": [],
   "source": [
    "from src.callbacks.gradient_reversal_alpha_updater import GradientReversalAlphaUpdater"
   ]
  },
  {
   "cell_type": "code",
   "execution_count": 90,
   "metadata": {},
   "outputs": [],
   "source": [
    "alpha_updater = GradientReversalAlphaUpdater(max_epochs=3)"
   ]
  },
  {
   "cell_type": "code",
   "execution_count": 91,
   "metadata": {},
   "outputs": [],
   "source": [
    "litmodule = LitModuleClasAdversarial()"
   ]
  },
  {
   "cell_type": "code",
   "execution_count": 92,
   "metadata": {},
   "outputs": [],
   "source": [
    "from pytorch_lightning import Trainer"
   ]
  },
  {
   "cell_type": "code",
   "execution_count": 93,
   "metadata": {},
   "outputs": [
    {
     "name": "stderr",
     "output_type": "stream",
     "text": [
      "GPU available: True (cuda), used: False\n",
      "TPU available: False, using: 0 TPU cores\n",
      "IPU available: False, using: 0 IPUs\n",
      "HPU available: False, using: 0 HPUs\n",
      "/home/fabian/anaconda3/envs/pcai-env/lib/python3.10/site-packages/pytorch_lightning/trainer/setup.py:175: PossibleUserWarning: GPU available but not used. Set `accelerator` and `devices` using `Trainer(accelerator='gpu', devices=1)`.\n",
      "  rank_zero_warn(\n"
     ]
    }
   ],
   "source": [
    "trainer = Trainer(accelerator=\"cpu\", max_epochs=5, callbacks=[alpha_updater])"
   ]
  },
  {
   "cell_type": "code",
   "execution_count": 94,
   "metadata": {},
   "outputs": [
    {
     "name": "stderr",
     "output_type": "stream",
     "text": [
      "\n",
      "  | Name           | Type             | Params\n",
      "----------------------------------------------------\n",
      "0 | net            | AdversarialNet   | 6.5 M \n",
      "1 | criterion_clas | CrossEntropyLoss | 0     \n",
      "2 | criterion_adv  | CrossEntropyLoss | 0     \n",
      "3 | metrics        | ModuleDict       | 0     \n",
      "----------------------------------------------------\n",
      "6.5 M     Trainable params\n",
      "0         Non-trainable params\n",
      "6.5 M     Total params\n",
      "25.913    Total estimated model params size (MB)\n"
     ]
    },
    {
     "data": {
      "application/vnd.jupyter.widget-view+json": {
       "model_id": "58e6393dd40142fc81aa88533c542d8c",
       "version_major": 2,
       "version_minor": 0
      },
      "text/plain": [
       "Sanity Checking: 0it [00:00, ?it/s]"
      ]
     },
     "metadata": {},
     "output_type": "display_data"
    },
    {
     "name": "stderr",
     "output_type": "stream",
     "text": [
      "/home/fabian/anaconda3/envs/pcai-env/lib/python3.10/site-packages/pytorch_lightning/trainer/connectors/data_connector.py:224: PossibleUserWarning: The dataloader, val_dataloader 0, does not have many workers which may be a bottleneck. Consider increasing the value of the `num_workers` argument` (try 4 which is the number of cpus on this machine) in the `DataLoader` init to improve performance.\n",
      "  rank_zero_warn(\n",
      "/home/fabian/anaconda3/envs/pcai-env/lib/python3.10/site-packages/torchmetrics/utilities/prints.py:36: UserWarning: No negative samples in targets, false positive value should be meaningless. Returning zero tensor in false positive score\n",
      "  warnings.warn(*args, **kwargs)\n",
      "/home/fabian/anaconda3/envs/pcai-env/lib/python3.10/site-packages/torchmetrics/utilities/prints.py:36: UserWarning: No positive samples in targets, true positive value should be meaningless. Returning zero tensor in true positive score\n",
      "  warnings.warn(*args, **kwargs)\n",
      "/home/fabian/anaconda3/envs/pcai-env/lib/python3.10/site-packages/torchmetrics/utilities/prints.py:36: UserWarning: No positive samples in targets, true positive value should be meaningless. Returning zero tensor in true positive score\n",
      "  warnings.warn(*args, **kwargs)\n",
      "/home/fabian/anaconda3/envs/pcai-env/lib/python3.10/site-packages/torchmetrics/utilities/prints.py:36: UserWarning: No negative samples in targets, false positive value should be meaningless. Returning zero tensor in false positive score\n",
      "  warnings.warn(*args, **kwargs)\n",
      "/home/fabian/anaconda3/envs/pcai-env/lib/python3.10/site-packages/pytorch_lightning/trainer/connectors/data_connector.py:224: PossibleUserWarning: The dataloader, train_dataloader, does not have many workers which may be a bottleneck. Consider increasing the value of the `num_workers` argument` (try 4 which is the number of cpus on this machine) in the `DataLoader` init to improve performance.\n",
      "  rank_zero_warn(\n",
      "/home/fabian/anaconda3/envs/pcai-env/lib/python3.10/site-packages/pytorch_lightning/trainer/trainer.py:1558: PossibleUserWarning: The number of training batches (1) is smaller than the logging interval Trainer(log_every_n_steps=50). Set a lower value for log_every_n_steps if you want to see logs for the training epoch.\n",
      "  rank_zero_warn(\n"
     ]
    },
    {
     "data": {
      "application/vnd.jupyter.widget-view+json": {
       "model_id": "aa777fcc5fc14bcb803f56d69689fee3",
       "version_major": 2,
       "version_minor": 0
      },
      "text/plain": [
       "Training: 0it [00:00, ?it/s]"
      ]
     },
     "metadata": {},
     "output_type": "display_data"
    },
    {
     "name": "stderr",
     "output_type": "stream",
     "text": [
      "/home/fabian/anaconda3/envs/pcai-env/lib/python3.10/site-packages/torchmetrics/utilities/prints.py:36: UserWarning: No positive samples in targets, true positive value should be meaningless. Returning zero tensor in true positive score\n",
      "  warnings.warn(*args, **kwargs)\n",
      "/home/fabian/anaconda3/envs/pcai-env/lib/python3.10/site-packages/torchmetrics/utilities/prints.py:36: UserWarning: No negative samples in targets, false positive value should be meaningless. Returning zero tensor in false positive score\n",
      "  warnings.warn(*args, **kwargs)\n"
     ]
    },
    {
     "data": {
      "application/vnd.jupyter.widget-view+json": {
       "model_id": "be28e3631dc2494c81fb792dcc50f982",
       "version_major": 2,
       "version_minor": 0
      },
      "text/plain": [
       "Validation: 0it [00:00, ?it/s]"
      ]
     },
     "metadata": {},
     "output_type": "display_data"
    },
    {
     "name": "stderr",
     "output_type": "stream",
     "text": [
      "/home/fabian/anaconda3/envs/pcai-env/lib/python3.10/site-packages/torchmetrics/utilities/prints.py:36: UserWarning: No negative samples in targets, false positive value should be meaningless. Returning zero tensor in false positive score\n",
      "  warnings.warn(*args, **kwargs)\n",
      "/home/fabian/anaconda3/envs/pcai-env/lib/python3.10/site-packages/torchmetrics/utilities/prints.py:36: UserWarning: No positive samples in targets, true positive value should be meaningless. Returning zero tensor in true positive score\n",
      "  warnings.warn(*args, **kwargs)\n",
      "/home/fabian/anaconda3/envs/pcai-env/lib/python3.10/site-packages/torchmetrics/utilities/prints.py:36: UserWarning: No positive samples in targets, true positive value should be meaningless. Returning zero tensor in true positive score\n",
      "  warnings.warn(*args, **kwargs)\n",
      "/home/fabian/anaconda3/envs/pcai-env/lib/python3.10/site-packages/torchmetrics/utilities/prints.py:36: UserWarning: No negative samples in targets, false positive value should be meaningless. Returning zero tensor in false positive score\n",
      "  warnings.warn(*args, **kwargs)\n",
      "/home/fabian/anaconda3/envs/pcai-env/lib/python3.10/site-packages/torchmetrics/utilities/prints.py:36: UserWarning: No positive samples in targets, true positive value should be meaningless. Returning zero tensor in true positive score\n",
      "  warnings.warn(*args, **kwargs)\n",
      "/home/fabian/anaconda3/envs/pcai-env/lib/python3.10/site-packages/torchmetrics/utilities/prints.py:36: UserWarning: No negative samples in targets, false positive value should be meaningless. Returning zero tensor in false positive score\n",
      "  warnings.warn(*args, **kwargs)\n",
      "/home/fabian/anaconda3/envs/pcai-env/lib/python3.10/site-packages/torchmetrics/utilities/prints.py:36: UserWarning: No positive samples in targets, true positive value should be meaningless. Returning zero tensor in true positive score\n",
      "  warnings.warn(*args, **kwargs)\n",
      "/home/fabian/anaconda3/envs/pcai-env/lib/python3.10/site-packages/torchmetrics/utilities/prints.py:36: UserWarning: No negative samples in targets, false positive value should be meaningless. Returning zero tensor in false positive score\n",
      "  warnings.warn(*args, **kwargs)\n"
     ]
    },
    {
     "data": {
      "application/vnd.jupyter.widget-view+json": {
       "model_id": "d8f30ce9069746089ee3e1f81cbe6ffd",
       "version_major": 2,
       "version_minor": 0
      },
      "text/plain": [
       "Validation: 0it [00:00, ?it/s]"
      ]
     },
     "metadata": {},
     "output_type": "display_data"
    },
    {
     "name": "stderr",
     "output_type": "stream",
     "text": [
      "/home/fabian/anaconda3/envs/pcai-env/lib/python3.10/site-packages/torchmetrics/utilities/prints.py:36: UserWarning: No negative samples in targets, false positive value should be meaningless. Returning zero tensor in false positive score\n",
      "  warnings.warn(*args, **kwargs)\n",
      "/home/fabian/anaconda3/envs/pcai-env/lib/python3.10/site-packages/torchmetrics/utilities/prints.py:36: UserWarning: No positive samples in targets, true positive value should be meaningless. Returning zero tensor in true positive score\n",
      "  warnings.warn(*args, **kwargs)\n",
      "/home/fabian/anaconda3/envs/pcai-env/lib/python3.10/site-packages/torchmetrics/utilities/prints.py:36: UserWarning: No positive samples in targets, true positive value should be meaningless. Returning zero tensor in true positive score\n",
      "  warnings.warn(*args, **kwargs)\n",
      "/home/fabian/anaconda3/envs/pcai-env/lib/python3.10/site-packages/torchmetrics/utilities/prints.py:36: UserWarning: No negative samples in targets, false positive value should be meaningless. Returning zero tensor in false positive score\n",
      "  warnings.warn(*args, **kwargs)\n",
      "/home/fabian/anaconda3/envs/pcai-env/lib/python3.10/site-packages/torchmetrics/utilities/prints.py:36: UserWarning: No positive samples in targets, true positive value should be meaningless. Returning zero tensor in true positive score\n",
      "  warnings.warn(*args, **kwargs)\n",
      "/home/fabian/anaconda3/envs/pcai-env/lib/python3.10/site-packages/torchmetrics/utilities/prints.py:36: UserWarning: No negative samples in targets, false positive value should be meaningless. Returning zero tensor in false positive score\n",
      "  warnings.warn(*args, **kwargs)\n",
      "/home/fabian/anaconda3/envs/pcai-env/lib/python3.10/site-packages/torchmetrics/utilities/prints.py:36: UserWarning: No positive samples in targets, true positive value should be meaningless. Returning zero tensor in true positive score\n",
      "  warnings.warn(*args, **kwargs)\n"
     ]
    },
    {
     "data": {
      "application/vnd.jupyter.widget-view+json": {
       "model_id": "652c2a3565104490b220e459546eb090",
       "version_major": 2,
       "version_minor": 0
      },
      "text/plain": [
       "Validation: 0it [00:00, ?it/s]"
      ]
     },
     "metadata": {},
     "output_type": "display_data"
    },
    {
     "name": "stderr",
     "output_type": "stream",
     "text": [
      "/home/fabian/anaconda3/envs/pcai-env/lib/python3.10/site-packages/torchmetrics/utilities/prints.py:36: UserWarning: No negative samples in targets, false positive value should be meaningless. Returning zero tensor in false positive score\n",
      "  warnings.warn(*args, **kwargs)\n",
      "/home/fabian/anaconda3/envs/pcai-env/lib/python3.10/site-packages/torchmetrics/utilities/prints.py:36: UserWarning: No positive samples in targets, true positive value should be meaningless. Returning zero tensor in true positive score\n",
      "  warnings.warn(*args, **kwargs)\n",
      "/home/fabian/anaconda3/envs/pcai-env/lib/python3.10/site-packages/torchmetrics/utilities/prints.py:36: UserWarning: No positive samples in targets, true positive value should be meaningless. Returning zero tensor in true positive score\n",
      "  warnings.warn(*args, **kwargs)\n",
      "/home/fabian/anaconda3/envs/pcai-env/lib/python3.10/site-packages/torchmetrics/utilities/prints.py:36: UserWarning: No negative samples in targets, false positive value should be meaningless. Returning zero tensor in false positive score\n",
      "  warnings.warn(*args, **kwargs)\n",
      "/home/fabian/anaconda3/envs/pcai-env/lib/python3.10/site-packages/torchmetrics/utilities/prints.py:36: UserWarning: No positive samples in targets, true positive value should be meaningless. Returning zero tensor in true positive score\n",
      "  warnings.warn(*args, **kwargs)\n",
      "/home/fabian/anaconda3/envs/pcai-env/lib/python3.10/site-packages/torchmetrics/utilities/prints.py:36: UserWarning: No negative samples in targets, false positive value should be meaningless. Returning zero tensor in false positive score\n",
      "  warnings.warn(*args, **kwargs)\n",
      "/home/fabian/anaconda3/envs/pcai-env/lib/python3.10/site-packages/torchmetrics/utilities/prints.py:36: UserWarning: No positive samples in targets, true positive value should be meaningless. Returning zero tensor in true positive score\n",
      "  warnings.warn(*args, **kwargs)\n"
     ]
    },
    {
     "data": {
      "application/vnd.jupyter.widget-view+json": {
       "model_id": "4bd0cbc6e6f642c7aca04def094a046b",
       "version_major": 2,
       "version_minor": 0
      },
      "text/plain": [
       "Validation: 0it [00:00, ?it/s]"
      ]
     },
     "metadata": {},
     "output_type": "display_data"
    },
    {
     "name": "stderr",
     "output_type": "stream",
     "text": [
      "/home/fabian/anaconda3/envs/pcai-env/lib/python3.10/site-packages/torchmetrics/utilities/prints.py:36: UserWarning: No negative samples in targets, false positive value should be meaningless. Returning zero tensor in false positive score\n",
      "  warnings.warn(*args, **kwargs)\n",
      "/home/fabian/anaconda3/envs/pcai-env/lib/python3.10/site-packages/torchmetrics/utilities/prints.py:36: UserWarning: No positive samples in targets, true positive value should be meaningless. Returning zero tensor in true positive score\n",
      "  warnings.warn(*args, **kwargs)\n",
      "/home/fabian/anaconda3/envs/pcai-env/lib/python3.10/site-packages/torchmetrics/utilities/prints.py:36: UserWarning: No positive samples in targets, true positive value should be meaningless. Returning zero tensor in true positive score\n",
      "  warnings.warn(*args, **kwargs)\n",
      "/home/fabian/anaconda3/envs/pcai-env/lib/python3.10/site-packages/torchmetrics/utilities/prints.py:36: UserWarning: No negative samples in targets, false positive value should be meaningless. Returning zero tensor in false positive score\n",
      "  warnings.warn(*args, **kwargs)\n",
      "/home/fabian/anaconda3/envs/pcai-env/lib/python3.10/site-packages/torchmetrics/utilities/prints.py:36: UserWarning: No positive samples in targets, true positive value should be meaningless. Returning zero tensor in true positive score\n",
      "  warnings.warn(*args, **kwargs)\n",
      "/home/fabian/anaconda3/envs/pcai-env/lib/python3.10/site-packages/torchmetrics/utilities/prints.py:36: UserWarning: No negative samples in targets, false positive value should be meaningless. Returning zero tensor in false positive score\n",
      "  warnings.warn(*args, **kwargs)\n",
      "/home/fabian/anaconda3/envs/pcai-env/lib/python3.10/site-packages/torchmetrics/utilities/prints.py:36: UserWarning: No positive samples in targets, true positive value should be meaningless. Returning zero tensor in true positive score\n",
      "  warnings.warn(*args, **kwargs)\n",
      "/home/fabian/anaconda3/envs/pcai-env/lib/python3.10/site-packages/torchmetrics/utilities/prints.py:36: UserWarning: No negative samples in targets, false positive value should be meaningless. Returning zero tensor in false positive score\n",
      "  warnings.warn(*args, **kwargs)\n"
     ]
    },
    {
     "data": {
      "application/vnd.jupyter.widget-view+json": {
       "model_id": "48bd5c696bfa4616a36627635af6ef2c",
       "version_major": 2,
       "version_minor": 0
      },
      "text/plain": [
       "Validation: 0it [00:00, ?it/s]"
      ]
     },
     "metadata": {},
     "output_type": "display_data"
    },
    {
     "name": "stderr",
     "output_type": "stream",
     "text": [
      "/home/fabian/anaconda3/envs/pcai-env/lib/python3.10/site-packages/torchmetrics/utilities/prints.py:36: UserWarning: No negative samples in targets, false positive value should be meaningless. Returning zero tensor in false positive score\n",
      "  warnings.warn(*args, **kwargs)\n",
      "/home/fabian/anaconda3/envs/pcai-env/lib/python3.10/site-packages/torchmetrics/utilities/prints.py:36: UserWarning: No positive samples in targets, true positive value should be meaningless. Returning zero tensor in true positive score\n",
      "  warnings.warn(*args, **kwargs)\n",
      "/home/fabian/anaconda3/envs/pcai-env/lib/python3.10/site-packages/torchmetrics/utilities/prints.py:36: UserWarning: No positive samples in targets, true positive value should be meaningless. Returning zero tensor in true positive score\n",
      "  warnings.warn(*args, **kwargs)\n",
      "/home/fabian/anaconda3/envs/pcai-env/lib/python3.10/site-packages/torchmetrics/utilities/prints.py:36: UserWarning: No negative samples in targets, false positive value should be meaningless. Returning zero tensor in false positive score\n",
      "  warnings.warn(*args, **kwargs)\n",
      "/home/fabian/anaconda3/envs/pcai-env/lib/python3.10/site-packages/torchmetrics/utilities/prints.py:36: UserWarning: No positive samples in targets, true positive value should be meaningless. Returning zero tensor in true positive score\n",
      "  warnings.warn(*args, **kwargs)\n",
      "/home/fabian/anaconda3/envs/pcai-env/lib/python3.10/site-packages/torchmetrics/utilities/prints.py:36: UserWarning: No negative samples in targets, false positive value should be meaningless. Returning zero tensor in false positive score\n",
      "  warnings.warn(*args, **kwargs)\n",
      "`Trainer.fit` stopped: `max_epochs=5` reached.\n"
     ]
    }
   ],
   "source": [
    "trainer.fit(model=litmodule, datamodule=datamodule)"
   ]
  },
  {
   "cell_type": "code",
   "execution_count": 95,
   "metadata": {},
   "outputs": [
    {
     "name": "stderr",
     "output_type": "stream",
     "text": [
      "/home/fabian/anaconda3/envs/pcai-env/lib/python3.10/site-packages/pytorch_lightning/trainer/connectors/data_connector.py:224: PossibleUserWarning: The dataloader, predict_dataloader 0, does not have many workers which may be a bottleneck. Consider increasing the value of the `num_workers` argument` (try 4 which is the number of cpus on this machine) in the `DataLoader` init to improve performance.\n",
      "  rank_zero_warn(\n"
     ]
    },
    {
     "data": {
      "application/vnd.jupyter.widget-view+json": {
       "model_id": "491ca7e4a6164f2f9376010eec2de574",
       "version_major": 2,
       "version_minor": 0
      },
      "text/plain": [
       "Predicting: 1it [00:00, ?it/s]"
      ]
     },
     "metadata": {},
     "output_type": "display_data"
    }
   ],
   "source": [
    "predictions = trainer.predict(model=litmodule, datamodule=datamodule)"
   ]
  },
  {
   "cell_type": "code",
   "execution_count": 96,
   "metadata": {},
   "outputs": [
    {
     "data": {
      "text/plain": [
       "{'scalar':    x|clas|pred_cls  x|clas|prob_cls_0  x|clas|prob_cls_1  x|adv|pred_cls  \\\n",
       " 0                0             0.5255           0.474501               2   \n",
       " 1                0             0.5255           0.474501               2   \n",
       " 2                0             0.5255           0.474501               2   \n",
       " 3                0             0.5255           0.474501               2   \n",
       " 4                0             0.5255           0.474501               2   \n",
       " 5                0             0.5255           0.474501               2   \n",
       " 6                0             0.5255           0.474501               2   \n",
       " 7                0             0.5255           0.474501               2   \n",
       " 8                0             0.5255           0.474501               2   \n",
       " \n",
       "    x|adv|prob_cls_0  x|adv|prob_cls_1  x|adv|prob_cls_2  y|clas  y|adv  \\\n",
       " 0          0.308818          0.327131          0.364052       0      0   \n",
       " 1          0.308818          0.327131          0.364052       1      1   \n",
       " 2          0.308818          0.327131          0.364052       1      2   \n",
       " 3          0.308818          0.327131          0.364052       0      0   \n",
       " 4          0.308818          0.327131          0.364052       1      1   \n",
       " 5          0.308818          0.327131          0.364052       1      2   \n",
       " 6          0.308818          0.327131          0.364052       0      0   \n",
       " 7          0.308818          0.327131          0.364052       1      1   \n",
       " 8          0.308818          0.327131          0.364052       1      2   \n",
       " \n",
       "    data_meta|patient_id  ...  data_meta|event_indicator  data_meta|domain  \\\n",
       " 0                     0  ...                          0                 A   \n",
       " 1                     1  ...                          1                 B   \n",
       " 2                     2  ...                          1                 C   \n",
       " 3                     0  ...                          0                 A   \n",
       " 4                     1  ...                          1                 B   \n",
       " 5                     2  ...                          1                 C   \n",
       " 6                     0  ...                          0                 A   \n",
       " 7                     1  ...                          1                 B   \n",
       " 8                     2  ...                          1                 C   \n",
       " \n",
       "   data_meta|sample_id data_meta|filepath data_meta|split data_meta|max_rows  \\\n",
       " 0             0_train              0.tif           train                  7   \n",
       " 1             1_train              1.tif           train                  7   \n",
       " 2             2_train              2.tif           train                  7   \n",
       " 3               0_val              0.tif             val                  7   \n",
       " 4               1_val              1.tif             val                  7   \n",
       " 5               2_val              2.tif             val                  7   \n",
       " 6              0_test              0.tif            test                  7   \n",
       " 7              1_test              1.tif            test                  7   \n",
       " 8              2_test              2.tif            test                  7   \n",
       " \n",
       "    data_meta|max_cols  data_meta|patch_size  data_meta|img_mag_dsf  \\\n",
       " 0                   7                    14                      1   \n",
       " 1                   7                    14                      1   \n",
       " 2                   7                    14                      1   \n",
       " 3                   7                    14                      1   \n",
       " 4                   7                    14                      1   \n",
       " 5                   7                    14                      1   \n",
       " 6                   7                    14                      1   \n",
       " 7                   7                    14                      1   \n",
       " 8                   7                    14                      1   \n",
       " \n",
       "    data_meta|initial_dsf  \n",
       " 0                      1  \n",
       " 1                      1  \n",
       " 2                      1  \n",
       " 3                      1  \n",
       " 4                      1  \n",
       " 5                      1  \n",
       " 6                      1  \n",
       " 7                      1  \n",
       " 8                      1  \n",
       " \n",
       " [9 rows x 21 columns],\n",
       " 'nonscalar': {'data_meta|patch_info': [array([[0, 3],\n",
       "          [1, 1],\n",
       "          [1, 2],\n",
       "          [1, 3],\n",
       "          [1, 4],\n",
       "          [1, 5],\n",
       "          [2, 0],\n",
       "          [2, 1],\n",
       "          [2, 2],\n",
       "          [2, 3],\n",
       "          [2, 4],\n",
       "          [2, 5],\n",
       "          [2, 6],\n",
       "          [3, 0],\n",
       "          [3, 1],\n",
       "          [3, 2],\n",
       "          [3, 3],\n",
       "          [3, 4],\n",
       "          [3, 5],\n",
       "          [3, 6],\n",
       "          [4, 0],\n",
       "          [4, 1],\n",
       "          [4, 2],\n",
       "          [4, 3],\n",
       "          [4, 4],\n",
       "          [4, 5],\n",
       "          [4, 6],\n",
       "          [5, 1],\n",
       "          [5, 2],\n",
       "          [5, 3],\n",
       "          [5, 4],\n",
       "          [5, 5],\n",
       "          [6, 2],\n",
       "          [6, 3],\n",
       "          [6, 4]]),\n",
       "   array([[1, 2],\n",
       "          [1, 3],\n",
       "          [1, 4],\n",
       "          [1, 5],\n",
       "          [2, 2],\n",
       "          [2, 3],\n",
       "          [2, 4],\n",
       "          [2, 5],\n",
       "          [3, 1],\n",
       "          [3, 2],\n",
       "          [3, 3],\n",
       "          [3, 4],\n",
       "          [3, 5],\n",
       "          [4, 2],\n",
       "          [4, 3],\n",
       "          [4, 4],\n",
       "          [4, 5],\n",
       "          [4, 6],\n",
       "          [5, 2],\n",
       "          [5, 3],\n",
       "          [5, 4],\n",
       "          [5, 5],\n",
       "          [6, 3]]),\n",
       "   array([[0, 2],\n",
       "          [0, 3],\n",
       "          [1, 2],\n",
       "          [1, 3],\n",
       "          [1, 4],\n",
       "          [2, 2],\n",
       "          [2, 3],\n",
       "          [2, 4],\n",
       "          [2, 5],\n",
       "          [3, 2],\n",
       "          [3, 3],\n",
       "          [3, 4],\n",
       "          [3, 5],\n",
       "          [4, 1],\n",
       "          [4, 2],\n",
       "          [4, 3],\n",
       "          [4, 4],\n",
       "          [4, 5],\n",
       "          [5, 1],\n",
       "          [5, 2],\n",
       "          [5, 3],\n",
       "          [5, 4],\n",
       "          [5, 5],\n",
       "          [6, 3],\n",
       "          [6, 4]]),\n",
       "   array([[0, 3],\n",
       "          [1, 1],\n",
       "          [1, 2],\n",
       "          [1, 3],\n",
       "          [1, 4],\n",
       "          [1, 5],\n",
       "          [2, 0],\n",
       "          [2, 1],\n",
       "          [2, 2],\n",
       "          [2, 3],\n",
       "          [2, 4],\n",
       "          [2, 5],\n",
       "          [2, 6],\n",
       "          [3, 0],\n",
       "          [3, 1],\n",
       "          [3, 2],\n",
       "          [3, 3],\n",
       "          [3, 4],\n",
       "          [3, 5],\n",
       "          [3, 6],\n",
       "          [4, 0],\n",
       "          [4, 1],\n",
       "          [4, 2],\n",
       "          [4, 3],\n",
       "          [4, 4],\n",
       "          [4, 5],\n",
       "          [4, 6],\n",
       "          [5, 1],\n",
       "          [5, 2],\n",
       "          [5, 3],\n",
       "          [5, 4],\n",
       "          [5, 5],\n",
       "          [6, 2],\n",
       "          [6, 3],\n",
       "          [6, 4]]),\n",
       "   array([[1, 2],\n",
       "          [1, 3],\n",
       "          [1, 4],\n",
       "          [1, 5],\n",
       "          [2, 2],\n",
       "          [2, 3],\n",
       "          [2, 4],\n",
       "          [2, 5],\n",
       "          [3, 1],\n",
       "          [3, 2],\n",
       "          [3, 3],\n",
       "          [3, 4],\n",
       "          [3, 5],\n",
       "          [4, 2],\n",
       "          [4, 3],\n",
       "          [4, 4],\n",
       "          [4, 5],\n",
       "          [4, 6],\n",
       "          [5, 2],\n",
       "          [5, 3],\n",
       "          [5, 4],\n",
       "          [5, 5],\n",
       "          [6, 3]]),\n",
       "   array([[0, 2],\n",
       "          [0, 3],\n",
       "          [1, 2],\n",
       "          [1, 3],\n",
       "          [1, 4],\n",
       "          [2, 2],\n",
       "          [2, 3],\n",
       "          [2, 4],\n",
       "          [2, 5],\n",
       "          [3, 2],\n",
       "          [3, 3],\n",
       "          [3, 4],\n",
       "          [3, 5],\n",
       "          [4, 1],\n",
       "          [4, 2],\n",
       "          [4, 3],\n",
       "          [4, 4],\n",
       "          [4, 5],\n",
       "          [5, 1],\n",
       "          [5, 2],\n",
       "          [5, 3],\n",
       "          [5, 4],\n",
       "          [5, 5],\n",
       "          [6, 3],\n",
       "          [6, 4]]),\n",
       "   array([[0, 3],\n",
       "          [1, 1],\n",
       "          [1, 2],\n",
       "          [1, 3],\n",
       "          [1, 4],\n",
       "          [1, 5],\n",
       "          [2, 0],\n",
       "          [2, 1],\n",
       "          [2, 2],\n",
       "          [2, 3],\n",
       "          [2, 4],\n",
       "          [2, 5],\n",
       "          [2, 6],\n",
       "          [3, 0],\n",
       "          [3, 1],\n",
       "          [3, 2],\n",
       "          [3, 3],\n",
       "          [3, 4],\n",
       "          [3, 5],\n",
       "          [3, 6],\n",
       "          [4, 0],\n",
       "          [4, 1],\n",
       "          [4, 2],\n",
       "          [4, 3],\n",
       "          [4, 4],\n",
       "          [4, 5],\n",
       "          [4, 6],\n",
       "          [5, 1],\n",
       "          [5, 2],\n",
       "          [5, 3],\n",
       "          [5, 4],\n",
       "          [5, 5],\n",
       "          [6, 2],\n",
       "          [6, 3],\n",
       "          [6, 4]]),\n",
       "   array([[1, 2],\n",
       "          [1, 3],\n",
       "          [1, 4],\n",
       "          [1, 5],\n",
       "          [2, 2],\n",
       "          [2, 3],\n",
       "          [2, 4],\n",
       "          [2, 5],\n",
       "          [3, 1],\n",
       "          [3, 2],\n",
       "          [3, 3],\n",
       "          [3, 4],\n",
       "          [3, 5],\n",
       "          [4, 2],\n",
       "          [4, 3],\n",
       "          [4, 4],\n",
       "          [4, 5],\n",
       "          [4, 6],\n",
       "          [5, 2],\n",
       "          [5, 3],\n",
       "          [5, 4],\n",
       "          [5, 5],\n",
       "          [6, 3]]),\n",
       "   array([[0, 2],\n",
       "          [0, 3],\n",
       "          [1, 2],\n",
       "          [1, 3],\n",
       "          [1, 4],\n",
       "          [2, 2],\n",
       "          [2, 3],\n",
       "          [2, 4],\n",
       "          [2, 5],\n",
       "          [3, 2],\n",
       "          [3, 3],\n",
       "          [3, 4],\n",
       "          [3, 5],\n",
       "          [4, 1],\n",
       "          [4, 2],\n",
       "          [4, 3],\n",
       "          [4, 4],\n",
       "          [4, 5],\n",
       "          [5, 1],\n",
       "          [5, 2],\n",
       "          [5, 3],\n",
       "          [5, 4],\n",
       "          [5, 5],\n",
       "          [6, 3],\n",
       "          [6, 4]])],\n",
       "  'model_meta|features': [array([ 0.04853895, -0.00917058, -0.01570524, ..., -0.00098285,\n",
       "           0.01183478, -0.0421089 ], dtype=float32),\n",
       "   array([ 0.04853895, -0.00917058, -0.01570524, ..., -0.00098285,\n",
       "           0.01183479, -0.0421089 ], dtype=float32),\n",
       "   array([ 0.04853895, -0.00917058, -0.01570524, ..., -0.00098285,\n",
       "           0.01183478, -0.0421089 ], dtype=float32),\n",
       "   array([ 0.04853895, -0.00917058, -0.01570524, ..., -0.00098285,\n",
       "           0.01183478, -0.0421089 ], dtype=float32),\n",
       "   array([ 0.04853895, -0.00917058, -0.01570524, ..., -0.00098285,\n",
       "           0.01183479, -0.0421089 ], dtype=float32),\n",
       "   array([ 0.04853895, -0.00917058, -0.01570524, ..., -0.00098285,\n",
       "           0.01183478, -0.0421089 ], dtype=float32),\n",
       "   array([ 0.04853895, -0.00917058, -0.01570524, ..., -0.00098285,\n",
       "           0.01183478, -0.0421089 ], dtype=float32),\n",
       "   array([ 0.04853895, -0.00917058, -0.01570524, ..., -0.00098285,\n",
       "           0.01183479, -0.0421089 ], dtype=float32),\n",
       "   array([ 0.04853895, -0.00917058, -0.01570524, ..., -0.00098285,\n",
       "           0.01183478, -0.0421089 ], dtype=float32)]}}"
      ]
     },
     "execution_count": 96,
     "metadata": {},
     "output_type": "execute_result"
    }
   ],
   "source": [
    "from src.utils import output_collate, transform_collated_output\n",
    "\n",
    "predictions_transformed = transform_collated_output(output_collate(predictions))\n",
    "predictions_transformed"
   ]
  },
  {
   "cell_type": "code",
   "execution_count": 97,
   "metadata": {},
   "outputs": [],
   "source": [
    "# save to pickle\n",
    "import pickle\n",
    "\n",
    "with open('predictions.pkl', 'wb') as f:\n",
    "    pickle.dump(predictions_transformed, f)"
   ]
  },
  {
   "cell_type": "code",
   "execution_count": null,
   "metadata": {},
   "outputs": [],
   "source": []
  }
 ],
 "metadata": {
  "kernelspec": {
   "display_name": "pcai-env",
   "language": "python",
   "name": "python3"
  },
  "language_info": {
   "codemirror_mode": {
    "name": "ipython",
    "version": 3
   },
   "file_extension": ".py",
   "mimetype": "text/x-python",
   "name": "python",
   "nbconvert_exporter": "python",
   "pygments_lexer": "ipython3",
   "version": "3.10.8"
  }
 },
 "nbformat": 4,
 "nbformat_minor": 2
}
