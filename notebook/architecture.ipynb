{
 "cells": [
  {
   "cell_type": "code",
   "execution_count": 1,
   "metadata": {},
   "outputs": [],
   "source": [
    "%load_ext autoreload\n",
    "%autoreload 2"
   ]
  },
  {
   "cell_type": "code",
   "execution_count": 2,
   "metadata": {},
   "outputs": [],
   "source": [
    "import sys\n",
    "sys.path.append('../')"
   ]
  },
  {
   "cell_type": "code",
   "execution_count": 3,
   "metadata": {},
   "outputs": [],
   "source": [
    "import torch\n",
    "import torch.nn as nn\n",
    "\n",
    "from src.architecture import AdversarialNet\n",
    "from src.architecture.components import AdversarialModule, BagAggregationModule, BagCnnEncoderModule, BagSelfAttentionModule, ClassificationTargetModule"
   ]
  },
  {
   "cell_type": "code",
   "execution_count": 4,
   "metadata": {},
   "outputs": [],
   "source": [
    "encoder = BagCnnEncoderModule()\n",
    "self_attention = BagSelfAttentionModule()\n",
    "aggregation = BagAggregationModule()\n",
    "classification_target = ClassificationTargetModule()"
   ]
  },
  {
   "cell_type": "code",
   "execution_count": 5,
   "metadata": {},
   "outputs": [],
   "source": [
    "model = nn.Sequential(encoder, self_attention, aggregation, classification_target)"
   ]
  },
  {
   "cell_type": "code",
   "execution_count": 6,
   "metadata": {},
   "outputs": [],
   "source": [
    "dummy_data = torch.randn(10, 10, 3, 128, 128)"
   ]
  },
  {
   "cell_type": "code",
   "execution_count": 7,
   "metadata": {},
   "outputs": [
    {
     "data": {
      "text/plain": [
       "torch.Size([10, 2])"
      ]
     },
     "execution_count": 7,
     "metadata": {},
     "output_type": "execute_result"
    }
   ],
   "source": [
    "model(dummy_data).shape"
   ]
  },
  {
   "cell_type": "code",
   "execution_count": 8,
   "metadata": {},
   "outputs": [],
   "source": [
    "adv_model = AdversarialNet()"
   ]
  },
  {
   "cell_type": "code",
   "execution_count": 9,
   "metadata": {},
   "outputs": [
    {
     "data": {
      "text/plain": [
       "(tensor([[ 0.2487,  0.4943],\n",
       "         [-0.4698,  0.6919],\n",
       "         [-0.3487, -0.3942],\n",
       "         [ 0.5843, -0.3987],\n",
       "         [ 0.2655,  0.9752],\n",
       "         [ 0.3785,  0.5899],\n",
       "         [-0.1752,  0.3748],\n",
       "         [ 0.8298,  0.7488],\n",
       "         [-0.4883, -0.1171],\n",
       "         [ 0.9778, -0.2223]], grad_fn=<AddmmBackward0>),\n",
       " tensor([[ 0.0223,  0.2494],\n",
       "         [-0.2358, -0.7558],\n",
       "         [ 0.2785,  0.4035],\n",
       "         [-0.9311, -0.0562],\n",
       "         [ 0.7694, -1.2026],\n",
       "         [ 0.3742, -0.4558],\n",
       "         [ 0.0953, -0.0855],\n",
       "         [-0.0958, -1.2760],\n",
       "         [ 0.3874, -0.0802],\n",
       "         [ 0.2135, -0.0497]], grad_fn=<AddmmBackward0>))"
      ]
     },
     "execution_count": 9,
     "metadata": {},
     "output_type": "execute_result"
    }
   ],
   "source": [
    "adv_model(dummy_data)"
   ]
  },
  {
   "cell_type": "code",
   "execution_count": null,
   "metadata": {},
   "outputs": [],
   "source": []
  }
 ],
 "metadata": {
  "kernelspec": {
   "display_name": "pcai-env",
   "language": "python",
   "name": "python3"
  },
  "language_info": {
   "codemirror_mode": {
    "name": "ipython",
    "version": 3
   },
   "file_extension": ".py",
   "mimetype": "text/x-python",
   "name": "python",
   "nbconvert_exporter": "python",
   "pygments_lexer": "ipython3",
   "version": "3.10.8"
  }
 },
 "nbformat": 4,
 "nbformat_minor": 2
}
